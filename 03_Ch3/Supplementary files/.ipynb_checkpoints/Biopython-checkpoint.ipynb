{
 "cells": [
  {
   "cell_type": "markdown",
   "metadata": {},
   "source": [
    "# Chapter 3: Biopython"
   ]
  },
  {
   "cell_type": "code",
   "execution_count": 8,
   "metadata": {},
   "outputs": [
    {
     "name": "stdout",
     "output_type": "stream",
     "text": [
      "Collecting package metadata (repodata.json): ...working... done\n",
      "Solving environment: ...working... done\n",
      "\n",
      "# All requested packages already installed.\n",
      "\n",
      "\n",
      "Intel(R) MPI Library 2019 Update 6 for Windows* Target Build Environment for Intel(R) 64 applications\n",
      "Copyright 2007-2019 Intel Corporation.\n",
      "\n"
     ]
    }
   ],
   "source": [
    "!conda install biopython "
   ]
  },
  {
   "cell_type": "code",
   "execution_count": 7,
   "metadata": {},
   "outputs": [
    {
     "name": "stdout",
     "output_type": "stream",
     "text": [
      "1.72\n"
     ]
    }
   ],
   "source": [
    "import Bio\n",
    "print(Bio.__version__)"
   ]
  },
  {
   "cell_type": "markdown",
   "metadata": {},
   "source": [
    "## Biopython seq object"
   ]
  },
  {
   "cell_type": "code",
   "execution_count": 5,
   "metadata": {},
   "outputs": [
    {
     "name": "stdout",
     "output_type": "stream",
     "text": [
      "<class 'Bio.Seq.Seq'>\n"
     ]
    }
   ],
   "source": [
    "from Bio.Seq import Seq\n",
    "\n",
    "my_seq = Seq(\"ATGGCCTTAAA\")\n",
    "print(type(my_seq))\n"
   ]
  },
  {
   "cell_type": "code",
   "execution_count": 8,
   "metadata": {},
   "outputs": [
    {
     "name": "stdout",
     "output_type": "stream",
     "text": [
      "Alphabet()\n",
      "DNAAlphabet()\n",
      "RNAAlphabet()\n",
      "ProteinAlphabet()\n"
     ]
    }
   ],
   "source": [
    "\n",
    "\n",
    "from Bio.Alphabet import generic_dna, generic_protein, generic_rna\n",
    "my_seq = Seq(\"ATGGCCTTAAA\")\n",
    "\n",
    "\n",
    "dna = Seq(\"ATGGCCTTAAA\", generic_dna)\n",
    "rna = Seq(\"ACCCGUUGU\", generic_rna)\n",
    "protein = Seq(\"AKKKGGGUUULL\", generic_protein)\n",
    "print(my_seq.alphabet)\n",
    "print(dna.alphabet)\n",
    "print(rna.alphabet)\n",
    "print(protein.alphabet)"
   ]
  },
  {
   "cell_type": "code",
   "execution_count": 13,
   "metadata": {
    "scrolled": true
   },
   "outputs": [
    {
     "name": "stdout",
     "output_type": "stream",
     "text": [
      "AUGGCCUUAAAU\n",
      "RNAAlphabet()\n",
      "MALN\n",
      "ExtendedIUPACProtein()\n"
     ]
    }
   ],
   "source": [
    "# Central dogma example.\n",
    "gene = Seq(\"ATGGCCTTAAAT\", generic_dna)\n",
    "\n",
    "#transcription\n",
    "\n",
    "transcript = gene.transcribe()\n",
    "print(transcript)\n",
    "print(transcript.alphabet)\n",
    "\n",
    "\n",
    "#Translarion\n",
    "protein = transcript.translate()\n",
    "print(protein)\n",
    "print(protein.alphabet)"
   ]
  },
  {
   "cell_type": "markdown",
   "metadata": {},
   "source": [
    "## Biopython SeqRecords"
   ]
  },
  {
   "cell_type": "code",
   "execution_count": 16,
   "metadata": {},
   "outputs": [
    {
     "name": "stdout",
     "output_type": "stream",
     "text": [
      "ID: P62945\n",
      "Name: RL41_HUMAN\n",
      "Description: 60S ribosomal protein L41\n",
      "Number of features: 0\n",
      "Seq('MRAKWRKKRMRRLKRKRRKMRQRSK', ProteinAlphabet())\n"
     ]
    }
   ],
   "source": [
    "from Bio.Seq import Seq\n",
    "from Bio.SeqRecord import SeqRecord\n",
    "from Bio.Alphabet import generic_protein\n",
    "protein_record = SeqRecord(Seq(\"MRAKWRKKRMRRLKRKRRKMRQRSK\",\n",
    "                       generic_protein),\n",
    "                   id=\"P62945\", name=\"RL41_HUMAN\",\n",
    "                   description=\"60S ribosomal protein L41\")\n",
    "print(protein_record)"
   ]
  },
  {
   "cell_type": "markdown",
   "metadata": {},
   "source": [
    "### Parsing sequence files"
   ]
  },
  {
   "cell_type": "code",
   "execution_count": 25,
   "metadata": {},
   "outputs": [
    {
     "name": "stdout",
     "output_type": "stream",
     "text": [
      "ID: >sp|Q9SE35|20-107\n",
      "Name: >sp|Q9SE35|20-107\n",
      "Description: >sp|Q9SE35|20-107\n",
      "Number of features: 0\n",
      "Seq('QSIADLAAANLSTEDSKSAQLISADSSDDASDSSVESVDAASSDVSGSSVESVD...RIL', ProteinAlphabet())\n"
     ]
    }
   ],
   "source": [
    "from Bio.Seq import Seq\n",
    "from Bio.SeqRecord import SeqRecord\n",
    "from Bio.Alphabet import generic_protein\n",
    "sequence = ''\n",
    "with open('sample.fasta','r') as f:\n",
    "    lines = f.readlines()\n",
    "    \n",
    "    for line in lines:\n",
    "        if line.startswith('>'):\n",
    "            description = line.rstrip()\n",
    "        else:\n",
    "            sequence = sequence + line.rstrip()\n",
    "\n",
    "protein_record = SeqRecord(Seq(sequence,generic_protein),\n",
    "                   id=description , name=description ,\n",
    "                   description=description)\n",
    "print(protein_record)\n"
   ]
  },
  {
   "cell_type": "markdown",
   "metadata": {},
   "source": [
    "### With SeqIO module"
   ]
  },
  {
   "cell_type": "code",
   "execution_count": 24,
   "metadata": {},
   "outputs": [
    {
     "name": "stdout",
     "output_type": "stream",
     "text": [
      "ID: sp|Q9SE35|20-107\n",
      "Name: sp|Q9SE35|20-107\n",
      "Description: sp|Q9SE35|20-107\n",
      "Number of features: 0\n",
      "Seq('QSIADLAAANLSTEDSKSAQLISADSSDDASDSSVESVDAASSDVSGSSVESVD...RIL', SingleLetterAlphabet())\n"
     ]
    }
   ],
   "source": [
    "from Bio import SeqIO\n",
    "records = SeqIO.parse(\"sample.fasta\", \"fasta\")\n",
    "for record in records:\n",
    "    print(record)"
   ]
  },
  {
   "cell_type": "markdown",
   "metadata": {},
   "source": [
    "### Fasta file with multiple sequences"
   ]
  },
  {
   "cell_type": "code",
   "execution_count": 32,
   "metadata": {},
   "outputs": [
    {
     "name": "stdout",
     "output_type": "stream",
     "text": [
      "sp|Q3ZM63|ETDA_HUMAN\n",
      "sp|P53803|RPAB4_HUMAN\n",
      "sp|Q538Z0|LUZP6_HUMAN\n",
      "sp|Q9BZ97|TTY13_HUMAN\n",
      "sp|P58511|SI11A_HUMAN\n"
     ]
    }
   ],
   "source": [
    "from Bio import SeqIO\n",
    "record_list = []\n",
    "for record in SeqIO.parse(\"multi_sequence.fasta\", \"fasta\"):\n",
    "    print(record.id)\n",
    "    record_list.append(record)\n",
    "\n",
    "    "
   ]
  },
  {
   "cell_type": "markdown",
   "metadata": {},
   "source": [
    "### GenBank File"
   ]
  },
  {
   "cell_type": "code",
   "execution_count": 39,
   "metadata": {},
   "outputs": [
    {
     "name": "stdout",
     "output_type": "stream",
     "text": [
      "ID: X03109.1\n",
      "Name: X03109\n",
      "Description: Chimpanzee fetal G-gamma-globin gene\n",
      "Number of features: 13\n",
      "/molecule_type=DNA\n",
      "/topology=linear\n",
      "/data_file_division=PRI\n",
      "/date=14-NOV-2006\n",
      "/accessions=['X03109']\n",
      "/sequence_version=1\n",
      "/gi=38219\n",
      "/keywords=['direct repeat', 'G-gamma-globin', 'gamma-globin', 'tandem repeat']\n",
      "/source=Pan troglodytes (chimpanzee)\n",
      "/organism=Pan troglodytes\n",
      "/taxonomy=['Eukaryota', 'Metazoa', 'Chordata', 'Craniata', 'Vertebrata', 'Euteleostomi', 'Mammalia', 'Eutheria', 'Euarchontoglires', 'Primates', 'Haplorrhini', 'Catarrhini', 'Hominidae', 'Pan']\n",
      "/references=[Reference(title='Chimpanzee fetal G gamma and A gamma globin gene nucleotide sequences provide further evidence of gene conversions in hominine evolution', ...), Reference(title='Direct Submission', ...)]\n",
      "Seq('CCGGCGGCTGGCTAGGGATGAAGAATAAAAGGAAGCACCCTCCAGCAGTTCCAC...AAT', IUPACAmbiguousDNA())\n"
     ]
    }
   ],
   "source": [
    "\n",
    "from Bio import SeqIO\n",
    "records = SeqIO.parse(\"sequence.gb\",\"genbank\")\n",
    "for record in records:\n",
    "    print(record)"
   ]
  },
  {
   "cell_type": "markdown",
   "metadata": {},
   "source": [
    "### Writing Sequence files"
   ]
  },
  {
   "cell_type": "code",
   "execution_count": 2,
   "metadata": {},
   "outputs": [
    {
     "name": "stdout",
     "output_type": "stream",
     "text": [
      ">P62945 60S ribosomal protein L41\n",
      "MRAKWRKKRMRRLKRKRRKMRQRSK\n",
      "\n"
     ]
    }
   ],
   "source": [
    "from Bio import SeqIO\n",
    "from Bio.Seq import Seq\n",
    "from Bio.SeqRecord import SeqRecord\n",
    "from Bio.Alphabet import generic_protein\n",
    "protein_record = SeqRecord(Seq(\"MRAKWRKKRMRRLKRKRRKMRQRSK\",\n",
    "                       generic_protein),\n",
    "                   id=\"P62945\", name=\"RL41_HUMAN\",\n",
    "                   description=\"60S ribosomal protein L41\")\n",
    "\n",
    "SeqIO.write(protein_record, \"example.fasta\", \"fasta\")\n",
    "\n",
    "with open('example.fasta') as f:\n",
    "    print(f.read())"
   ]
  },
  {
   "cell_type": "code",
   "execution_count": 7,
   "metadata": {},
   "outputs": [
    {
     "name": "stdout",
     "output_type": "stream",
     "text": [
      ">P62945 60S ribosomal protein L41\n",
      "MRAKWRKKRMRRLKRKRRKMRQRSK\n",
      ">O00631 Sarcolipin\n",
      "MGINTRELFLNFTIVLITVILMWLLVRSYQY\n",
      "\n"
     ]
    }
   ],
   "source": [
    "from Bio import SeqIO\n",
    "from Bio.Seq import Seq\n",
    "from Bio.SeqRecord import SeqRecord\n",
    "from Bio.Alphabet import generic_protein\n",
    "record_list = []\n",
    "protein_record_1 = SeqRecord(Seq(\"MRAKWRKKRMRRLKRKRRKMRQRSK\",\n",
    "                       generic_protein),\n",
    "                   id=\"P62945\", name=\"RL41_HUMAN\",\n",
    "                   description=\"60S ribosomal protein L41\")\n",
    "\n",
    "protein_record_2 = SeqRecord(Seq(\"MGINTRELFLNFTIVLITVILMWLLVRSYQY\",\n",
    "                       generic_protein),\n",
    "                   id=\"O00631\", name=\"SARCO_HUMAN\",\n",
    "                   description=\"Sarcolipin\")\n",
    "\n",
    "record_list = [protein_record_1,protein_record_2]\n",
    "\n",
    "SeqIO.write(record_list, \"example_2.fasta\", \"fasta\")\n",
    "\n",
    "with open('example_2.fasta') as f:\n",
    "    print(f.read())"
   ]
  },
  {
   "cell_type": "markdown",
   "metadata": {},
   "source": [
    "## Sequence Alignment"
   ]
  },
  {
   "cell_type": "markdown",
   "metadata": {},
   "source": [
    "### pairwise Sequence alingmnet (Global)"
   ]
  },
  {
   "cell_type": "code",
   "execution_count": 8,
   "metadata": {
    "scrolled": true
   },
   "outputs": [
    {
     "name": "stdout",
     "output_type": "stream",
     "text": [
      "TACGCCC--GC\n",
      "||-||||--||\n",
      "TA-GCCCATGC\n",
      "\n",
      "8.0\n"
     ]
    }
   ],
   "source": [
    "from Bio import Align\n",
    "aligner = Align.PairwiseAligner()\n",
    "seq1 = 'TACGCCCGC'\n",
    "seq2 = 'TAGCCCATGC'\n",
    "alignments = aligner.align(seq1, seq2)\n",
    "for alignment in alignments:\n",
    "    print(alignment)\n",
    "score = aligner.score(seq1, seq2)\n",
    "\n",
    "\n",
    "print(score)"
   ]
  },
  {
   "cell_type": "code",
   "execution_count": 5,
   "metadata": {},
   "outputs": [
    {
     "name": "stdout",
     "output_type": "stream",
     "text": [
      "Pairwise sequence aligner with parameters\n",
      "  match_score: 1.000000\n",
      "  mismatch_score: 0.000000\n",
      "  target_internal_open_gap_score: 0.000000\n",
      "  target_internal_extend_gap_score: 0.000000\n",
      "  target_left_open_gap_score: 0.000000\n",
      "  target_left_extend_gap_score: 0.000000\n",
      "  target_right_open_gap_score: 0.000000\n",
      "  target_right_extend_gap_score: 0.000000\n",
      "  query_internal_open_gap_score: 0.000000\n",
      "  query_internal_extend_gap_score: 0.000000\n",
      "  query_left_open_gap_score: 0.000000\n",
      "  query_left_extend_gap_score: 0.000000\n",
      "  query_right_open_gap_score: 0.000000\n",
      "  query_right_extend_gap_score: 0.000000\n",
      "  mode: global\n",
      "\n",
      "----------------\n",
      "Needleman-Wunsch\n"
     ]
    }
   ],
   "source": [
    "from Bio import Align\n",
    "aligner = Align.PairwiseAligner()\n",
    "print(aligner)\n",
    "print('----------------')\n",
    "print(aligner.algorithm)"
   ]
  },
  {
   "cell_type": "code",
   "execution_count": 9,
   "metadata": {},
   "outputs": [
    {
     "name": "stdout",
     "output_type": "stream",
     "text": [
      "TACGCCC--GC\n",
      "||-||||--||\n",
      "TA-GCCCATGC\n",
      "\n",
      "0.5\n"
     ]
    }
   ],
   "source": [
    "from Bio import Align\n",
    "aligner = Align.PairwiseAligner()\n",
    "seq1 = 'TACGCCCGC'\n",
    "seq2 = 'TAGCCCATGC'\n",
    "aligner.match_score = 1.0\n",
    "aligner.mismatch_score = -2.0\n",
    "aligner.gap_score = -2.5\n",
    "alignments = aligner.align(seq1, seq2)\n",
    "for alignment in alignments:\n",
    "    print(alignment)\n",
    "score = aligner.score(seq1, seq2)\n",
    "\n",
    "print(score)"
   ]
  },
  {
   "cell_type": "markdown",
   "metadata": {},
   "source": [
    "### Local alingmnet"
   ]
  },
  {
   "cell_type": "code",
   "execution_count": 10,
   "metadata": {},
   "outputs": [
    {
     "name": "stdout",
     "output_type": "stream",
     "text": [
      "TACGCCC--GC\n",
      "||-||||--||\n",
      "TA-GCCCATGC\n",
      "\n",
      "8.0\n"
     ]
    }
   ],
   "source": [
    "from Bio import Align\n",
    "aligner = Align.PairwiseAligner()\n",
    "aligner.mode = 'local'\n",
    "seq1 = 'TACGCCCGC'\n",
    "seq2 = 'TAGCCCATGC'\n",
    "alignments = aligner.align(seq1, seq2)\n",
    "for alignment in alignments:\n",
    "    print(alignment)\n",
    "score = aligner.score(seq1, seq2)\n",
    "\n",
    "\n",
    "print(score)"
   ]
  },
  {
   "cell_type": "code",
   "execution_count": 11,
   "metadata": {},
   "outputs": [
    {
     "name": "stdout",
     "output_type": "stream",
     "text": [
      "TACGCCCGC  \n",
      "   ||||    \n",
      " TAGCCCATGC\n",
      "\n",
      "4.0\n"
     ]
    }
   ],
   "source": [
    "from Bio import Align\n",
    "aligner = Align.PairwiseAligner()\n",
    "aligner.mode = 'local'\n",
    "seq1 = 'TACGCCCGC'\n",
    "seq2 = 'TAGCCCATGC'\n",
    "aligner.match_score = 1.0\n",
    "aligner.mismatch_score = -2.0\n",
    "aligner.gap_score = -2.5\n",
    "alignments = aligner.align(seq1, seq2)\n",
    "for alignment in alignments:\n",
    "    print(alignment)\n",
    "score = aligner.score(seq1, seq2)\n",
    "\n",
    "print(score)"
   ]
  },
  {
   "cell_type": "code",
   "execution_count": 13,
   "metadata": {},
   "outputs": [
    {
     "data": {
      "text/plain": [
       "['BENNER22',\n",
       " 'BENNER6',\n",
       " 'BENNER74',\n",
       " 'BLOSUM45',\n",
       " 'BLOSUM50',\n",
       " 'BLOSUM62',\n",
       " 'BLOSUM80',\n",
       " 'BLOSUM90',\n",
       " 'DAYHOFF',\n",
       " 'FENG',\n",
       " 'GENETIC',\n",
       " 'GONNET1992',\n",
       " 'JOHNSON',\n",
       " 'JONES',\n",
       " 'LEVIN',\n",
       " 'MCLACHLAN',\n",
       " 'MDM78',\n",
       " 'NUC.4.4',\n",
       " 'PAM250',\n",
       " 'PAM30',\n",
       " 'PAM70',\n",
       " 'RAO',\n",
       " 'RISLER',\n",
       " 'SCHNEIDER',\n",
       " 'STR']"
      ]
     },
     "execution_count": 13,
     "metadata": {},
     "output_type": "execute_result"
    }
   ],
   "source": [
    "from Bio.Align import substitution_matrices\n",
    "substitution_matrices.load()\n"
   ]
  },
  {
   "cell_type": "code",
   "execution_count": 25,
   "metadata": {},
   "outputs": [
    {
     "name": "stdout",
     "output_type": "stream",
     "text": [
      "#  Matrix made by matblas from blosum62.iij\n",
      "#  * column uses minimum score\n",
      "#  BLOSUM Clustered Scoring Matrix in 1/2 Bit Units\n",
      "#  Blocks Database = /data/blocks_5.0/blocks.dat\n",
      "#  Cluster Percentage: >= 62\n",
      "#  Entropy =   0.6979, Expected =  -0.5209\n",
      "     A    R    N    D    C    Q    E    G    H    I    L    K    M    F    P    S    T    W    Y    V    B    Z    X    *\n",
      "A  4.0 -1.0 -2.0 -2.0  0.0 -1.0 -1.0  0.0 -2.0 -1.0 -1.0 -1.0 -1.0 -2.0 -1.0  1.0  0.0 -3.0 -2.0  0.0 -2.0 -1.0  0.0 -4.0\n",
      "R -1.0  5.0  0.0 -2.0 -3.0  1.0  0.0 -2.0  0.0 -3.0 -2.0  2.0 -1.0 -3.0 -2.0 -1.0 -1.0 -3.0 -2.0 -3.0 -1.0  0.0 -1.0 -4.0\n",
      "N -2.0  0.0  6.0  1.0 -3.0  0.0  0.0  0.0  1.0 -3.0 -3.0  0.0 -2.0 -3.0 -2.0  1.0  0.0 -4.0 -2.0 -3.0  3.0  0.0 -1.0 -4.0\n",
      "D -2.0 -2.0  1.0  6.0 -3.0  0.0  2.0 -1.0 -1.0 -3.0 -4.0 -1.0 -3.0 -3.0 -1.0  0.0 -1.0 -4.0 -3.0 -3.0  4.0  1.0 -1.0 -4.0\n",
      "C  0.0 -3.0 -3.0 -3.0  9.0 -3.0 -4.0 -3.0 -3.0 -1.0 -1.0 -3.0 -1.0 -2.0 -3.0 -1.0 -1.0 -2.0 -2.0 -1.0 -3.0 -3.0 -2.0 -4.0\n",
      "Q -1.0  1.0  0.0  0.0 -3.0  5.0  2.0 -2.0  0.0 -3.0 -2.0  1.0  0.0 -3.0 -1.0  0.0 -1.0 -2.0 -1.0 -2.0  0.0  3.0 -1.0 -4.0\n",
      "E -1.0  0.0  0.0  2.0 -4.0  2.0  5.0 -2.0  0.0 -3.0 -3.0  1.0 -2.0 -3.0 -1.0  0.0 -1.0 -3.0 -2.0 -2.0  1.0  4.0 -1.0 -4.0\n",
      "G  0.0 -2.0  0.0 -1.0 -3.0 -2.0 -2.0  6.0 -2.0 -4.0 -4.0 -2.0 -3.0 -3.0 -2.0  0.0 -2.0 -2.0 -3.0 -3.0 -1.0 -2.0 -1.0 -4.0\n",
      "H -2.0  0.0  1.0 -1.0 -3.0  0.0  0.0 -2.0  8.0 -3.0 -3.0 -1.0 -2.0 -1.0 -2.0 -1.0 -2.0 -2.0  2.0 -3.0  0.0  0.0 -1.0 -4.0\n",
      "I -1.0 -3.0 -3.0 -3.0 -1.0 -3.0 -3.0 -4.0 -3.0  4.0  2.0 -3.0  1.0  0.0 -3.0 -2.0 -1.0 -3.0 -1.0  3.0 -3.0 -3.0 -1.0 -4.0\n",
      "L -1.0 -2.0 -3.0 -4.0 -1.0 -2.0 -3.0 -4.0 -3.0  2.0  4.0 -2.0  2.0  0.0 -3.0 -2.0 -1.0 -2.0 -1.0  1.0 -4.0 -3.0 -1.0 -4.0\n",
      "K -1.0  2.0  0.0 -1.0 -3.0  1.0  1.0 -2.0 -1.0 -3.0 -2.0  5.0 -1.0 -3.0 -1.0  0.0 -1.0 -3.0 -2.0 -2.0  0.0  1.0 -1.0 -4.0\n",
      "M -1.0 -1.0 -2.0 -3.0 -1.0  0.0 -2.0 -3.0 -2.0  1.0  2.0 -1.0  5.0  0.0 -2.0 -1.0 -1.0 -1.0 -1.0  1.0 -3.0 -1.0 -1.0 -4.0\n",
      "F -2.0 -3.0 -3.0 -3.0 -2.0 -3.0 -3.0 -3.0 -1.0  0.0  0.0 -3.0  0.0  6.0 -4.0 -2.0 -2.0  1.0  3.0 -1.0 -3.0 -3.0 -1.0 -4.0\n",
      "P -1.0 -2.0 -2.0 -1.0 -3.0 -1.0 -1.0 -2.0 -2.0 -3.0 -3.0 -1.0 -2.0 -4.0  7.0 -1.0 -1.0 -4.0 -3.0 -2.0 -2.0 -1.0 -2.0 -4.0\n",
      "S  1.0 -1.0  1.0  0.0 -1.0  0.0  0.0  0.0 -1.0 -2.0 -2.0  0.0 -1.0 -2.0 -1.0  4.0  1.0 -3.0 -2.0 -2.0  0.0  0.0  0.0 -4.0\n",
      "T  0.0 -1.0  0.0 -1.0 -1.0 -1.0 -1.0 -2.0 -2.0 -1.0 -1.0 -1.0 -1.0 -2.0 -1.0  1.0  5.0 -2.0 -2.0  0.0 -1.0 -1.0  0.0 -4.0\n",
      "W -3.0 -3.0 -4.0 -4.0 -2.0 -2.0 -3.0 -2.0 -2.0 -3.0 -2.0 -3.0 -1.0  1.0 -4.0 -3.0 -2.0 11.0  2.0 -3.0 -4.0 -3.0 -2.0 -4.0\n",
      "Y -2.0 -2.0 -2.0 -3.0 -2.0 -1.0 -2.0 -3.0  2.0 -1.0 -1.0 -2.0 -1.0  3.0 -3.0 -2.0 -2.0  2.0  7.0 -1.0 -3.0 -2.0 -1.0 -4.0\n",
      "V  0.0 -3.0 -3.0 -3.0 -1.0 -2.0 -2.0 -3.0 -3.0  3.0  1.0 -2.0  1.0 -1.0 -2.0 -2.0  0.0 -3.0 -1.0  4.0 -3.0 -2.0 -1.0 -4.0\n",
      "B -2.0 -1.0  3.0  4.0 -3.0  0.0  1.0 -1.0  0.0 -3.0 -4.0  0.0 -3.0 -3.0 -2.0  0.0 -1.0 -4.0 -3.0 -3.0  4.0  1.0 -1.0 -4.0\n",
      "Z -1.0  0.0  0.0  1.0 -3.0  3.0  4.0 -2.0  0.0 -3.0 -3.0  1.0 -1.0 -3.0 -1.0  0.0 -1.0 -3.0 -2.0 -2.0  1.0  4.0 -1.0 -4.0\n",
      "X  0.0 -1.0 -1.0 -1.0 -2.0 -1.0 -1.0 -1.0 -1.0 -1.0 -1.0 -1.0 -1.0 -1.0 -2.0  0.0  0.0 -2.0 -1.0 -1.0 -1.0 -1.0 -1.0 -4.0\n",
      "* -4.0 -4.0 -4.0 -4.0 -4.0 -4.0 -4.0 -4.0 -4.0 -4.0 -4.0 -4.0 -4.0 -4.0 -4.0 -4.0 -4.0 -4.0 -4.0 -4.0 -4.0 -4.0 -4.0  1.0\n",
      "\n"
     ]
    }
   ],
   "source": [
    "matrix = substitution_matrices.load(\"BLOSUM62\")\n",
    "print(matrix)"
   ]
  },
  {
   "cell_type": "code",
   "execution_count": 15,
   "metadata": {},
   "outputs": [
    {
     "name": "stdout",
     "output_type": "stream",
     "text": [
      "10.0\n",
      "MERSTQELFINFTVVLITVLLMWLLVRSYQY\n",
      "|...|.|||.|||.|||||.|||||||||||\n",
      "MGINTRELFLNFTIVLITVILMWLLVRSYQY\n",
      "\n"
     ]
    }
   ],
   "source": [
    "from Bio import Align\n",
    "aligner = Align.PairwiseAligner()\n",
    "matrix = Align.substitution_matrices.load(\"BLOSUM62\")\n",
    "aligner.substitution_matrix = matrix\n",
    "aligner.match_score = 1.0\n",
    "aligner.mismatch_score = -2.0\n",
    "aligner.gap_score = -2.5\n",
    "protein_1 = 'MERSTQELFINFTVVLITVLLMWLLVRSYQY'\n",
    "protein_2 = 'MGINTRELFLNFTIVLITVILMWLLVRSYQY'\n",
    "score = aligner.score(protein_1 , protein_2)\n",
    "alignments = aligner.align(protein_1 , protein_2)\n",
    "print(score)\n",
    "for alignment in alignments:\n",
    "    print(alignment)"
   ]
  },
  {
   "cell_type": "markdown",
   "metadata": {},
   "source": [
    "## Multiple sequence alingmnet"
   ]
  },
  {
   "cell_type": "code",
   "execution_count": null,
   "metadata": {},
   "outputs": [],
   "source": []
  },
  {
   "cell_type": "code",
   "execution_count": 33,
   "metadata": {},
   "outputs": [
    {
     "name": "stdout",
     "output_type": "stream",
     "text": [
      "SingleLetterAlphabet() alignment with 6 rows and 26 columns\n",
      "ATCCGTCAGGATAGAGTTTTATTCTC Seq1\n",
      "ATCGGTACGAATAGAGCTTTATTCTC Seq4\n",
      "AACCGTCAGAAGAGAGCTTTATGCAC Seq0\n",
      "AACCGTCCGAATAGCCCTTTATTCTC Seq3\n",
      "AACCGTCCGAATCGAGCATTATTCTC Seq2\n",
      "AACCGTCGGAAAAGAGCTTTAGTCTC Seq5\n"
     ]
    }
   ],
   "source": [
    "#open the alignmnent file\n",
    "from Bio import AlignIO\n",
    "with open(\"aln_file.clustal\", \"r\") as aln:\n",
    "    #use AlignIO to read the alignment file in 'clustal' format\n",
    "    alignment = AlignIO.read(aln, \"clustal\")\n",
    "print(alignment)\n"
   ]
  },
  {
   "cell_type": "markdown",
   "metadata": {},
   "source": [
    "#### Step 4: Use the alignment to obtain a \"distance\" between all pairs of sequences\n",
    "Using the parsed alignment, we can get the distance (or difference) between all the sequences.\n",
    "\n",
    "This just tells us, for each pair of sequences, how different they are."
   ]
  },
  {
   "cell_type": "code",
   "execution_count": 37,
   "metadata": {},
   "outputs": [
    {
     "name": "stdout",
     "output_type": "stream",
     "text": [
      "Seq1\t0\n",
      "Seq4\t0.1923076923076923\t0\n",
      "Seq0\t0.23076923076923073\t0.2692307692307693\t0\n",
      "Seq3\t0.23076923076923073\t0.1923076923076923\t0.23076923076923073\t0\n",
      "Seq2\t0.23076923076923073\t0.1923076923076923\t0.23076923076923073\t0.15384615384615385\t0\n",
      "Seq5\t0.23076923076923073\t0.23076923076923073\t0.1923076923076923\t0.1923076923076923\t0.1923076923076923\t0\n",
      "\tSeq1\tSeq4\tSeq0\tSeq3\tSeq2\tSeq5\n"
     ]
    }
   ],
   "source": [
    "from Bio.Phylo.TreeConstruction import DistanceCalculator\n",
    "\n",
    "#calculate the distance matrix\n",
    "calculator = DistanceCalculator('identity')\n",
    "#adds distance matrix to the calculator object and returns it\n",
    "dm = calculator.get_distance(alignment)\n",
    "print(dm)"
   ]
  },
  {
   "cell_type": "markdown",
   "metadata": {},
   "source": [
    "#### Construct a tree from the set of distances\n",
    "And finally, we can construct a phylogenetic tree from the pairwise distances between all the sequences."
   ]
  },
  {
   "cell_type": "code",
   "execution_count": 35,
   "metadata": {},
   "outputs": [
    {
     "name": "stdout",
     "output_type": "stream",
     "text": [
      "Tree(rooted=False)\n",
      "    Clade(branch_length=0, name='Inner4')\n",
      "        Clade(branch_length=0.014423076923076886, name='Inner3')\n",
      "            Clade(branch_length=0.024038461538461536, name='Inner1')\n",
      "                Clade(branch_length=0.10096153846153844, name='Seq1')\n",
      "                Clade(branch_length=0.09134615384615385, name='Seq4')\n",
      "            Clade(branch_length=0.024038461538461536, name='Inner2')\n",
      "                Clade(branch_length=0.0801282051282051, name='Seq5')\n",
      "                Clade(branch_length=0.1121794871794872, name='Seq0')\n",
      "        Clade(branch_length=0.07692307692307694, name='Seq3')\n",
      "        Clade(branch_length=0.07692307692307693, name='Seq2')\n"
     ]
    }
   ],
   "source": [
    "from Bio.Phylo.TreeConstruction import DistanceTreeConstructor\n",
    "\n",
    "#initialize a DistanceTreeConstructor object based on our distance calculator object\n",
    "constructor = DistanceTreeConstructor(calculator)\n",
    "\n",
    "#build the tree\n",
    "tree = constructor.build_tree(alignment)\n",
    "print(tree)"
   ]
  },
  {
   "cell_type": "markdown",
   "metadata": {},
   "source": [
    "##### And let's use the Phylo module to visualize the result!"
   ]
  },
  {
   "cell_type": "code",
   "execution_count": 36,
   "metadata": {},
   "outputs": [
    {
     "data": {
      "image/png": "[encoded data removed]",
      "text/plain": [
       "<Figure size 432x288 with 1 Axes>"
      ]
     },
     "metadata": {
      "needs_background": "light"
     },
     "output_type": "display_data"
    }
   ],
   "source": [
    "\n",
    "from Bio import Phylo\n",
    "import pylab\n",
    "#draw the tree\n",
    "Phylo.draw(tree)"
   ]
  },
  {
   "cell_type": "markdown",
   "metadata": {},
   "source": [
    "# NCBI BLAST "
   ]
  },
  {
   "cell_type": "code",
   "execution_count": 1,
   "metadata": {},
   "outputs": [],
   "source": [
    "from Bio.Alphabet import generic_dna\n",
    "from Bio.Blast import NCBIWWW\n",
    "from Bio.Seq import Seq\n",
    "sequence = Seq(\"ATTTTCTTGCTCTTGAGCTCTGGCACTTCTCTGCTGCTGTC\", generic_dna)\n",
    "result_handle = NCBIWWW.qblast(\"blastn\", \"nt\", sequence)\n"
   ]
  },
  {
   "cell_type": "code",
   "execution_count": 2,
   "metadata": {},
   "outputs": [
    {
     "name": "stdout",
     "output_type": "stream",
     "text": [
      "****Alignment****\n",
      "sequence: gi|31790676|dbj|AP002353.4| Homo sapiens genomic DNA, chromosome 11 clone:CTD-2651C21, complete sequence\n",
      "length: 202607\n",
      "e value: 5.15868e-11\n",
      "ATTTTCTTGCTCTTGAGCTCTGGCACTTCTCTGCTGCTGTC...\n",
      "|||||||||||||||||||||||||||||||||||||||||...\n",
      "ATTTTCTTGCTCTTGAGCTCTGGCACTTCTCTGCTGCTGTC...\n",
      "****Alignment****\n",
      "sequence: gi|694946907|ref|XR_673052.1| PREDICTED: Pan troglodytes sarcolipin (SLN), transcript variant X2, misc_RNA\n",
      "length: 904\n",
      "e value: 2.67226e-08\n",
      "CTTGCTCTTGAGCTCTGGCACTTCTCTGCTGCTGTC...\n",
      "||||||||||||||||||||||||||||||||||||...\n",
      "CTTGCTCTTGAGCTCTGGCACTTCTCTGCTGCTGTC...\n"
     ]
    }
   ],
   "source": [
    "from Bio.Blast import NCBIXML\n",
    "blast_records = NCBIXML.parse(result_handle)\n",
    "for b in blast_records:\n",
    "    for alignment in b.alignments[:2]:\n",
    "        for hsp in alignment.hsps:\n",
    "            print('****Alignment****')\n",
    "            print('sequence:', alignment.title)\n",
    "            print('length:', alignment.length)\n",
    "            print('e value:', hsp.expect)\n",
    "            print(hsp.query[0:75] + '...')\n",
    "            print(hsp.match[0:75] + '...')\n",
    "            print(hsp.sbjct[0:75] + '...')"
   ]
  },
  {
   "cell_type": "markdown",
   "metadata": {},
   "source": [
    "### Handling PDB files"
   ]
  },
  {
   "cell_type": "code",
   "execution_count": 1,
   "metadata": {},
   "outputs": [
    {
     "name": "stdout",
     "output_type": "stream",
     "text": [
      "Downloading PDB structure '1mbs'...\n",
      "Desired structure doesn't exists\n",
      "Downloading PDB structure '1mbs'...\n",
      "Desired structure doesn't exists\n"
     ]
    },
    {
     "data": {
      "text/plain": [
       "'.\\\\1mbs.cif'"
      ]
     },
     "execution_count": 1,
     "metadata": {},
     "output_type": "execute_result"
    }
   ],
   "source": [
    "from Bio.PDB import PDBList\n",
    "pdbl = PDBList() \n",
    "pdbl.retrieve_pdb_file('1mbs', pdir = '.', file_format = 'pdb')\n",
    "pdbl = PDBList() \n",
    "pdbl.retrieve_pdb_file('1mbs', pdir = '.', file_format = 'mmCif')"
   ]
  },
  {
   "cell_type": "code",
   "execution_count": 5,
   "metadata": {},
   "outputs": [
    {
     "name": "stdout",
     "output_type": "stream",
     "text": [
      "dict_keys(['name', 'head', 'idcode', 'deposition_date', 'release_date', 'structure_method', 'resolution', 'structure_reference', 'journal_reference', 'author', 'compound', 'source', 'has_missing_residues', 'missing_residues', 'keywords', 'journal'])\n",
      "-----------------------------\n",
      " x-ray crystallographic studies of seal myoglobin. the molecule at 2.5 angstroms resolution\n",
      "1979-05-15\n",
      "2.5\n",
      "oxygen transport\n"
     ]
    }
   ],
   "source": [
    "from Bio.PDB.PDBParser import PDBParser\n",
    "\n",
    "parser = PDBParser(QUIET = True)\n",
    "pdb_id = \"1mbs\"\n",
    "pdb_filename = \"pdb1mbs.ent\"\n",
    "\n",
    "structure_pdb = parser.get_structure(pdb_id, pdb_filename)\n",
    "print(structure_pdb.header.keys())\n",
    "print('-----------------------------')\n",
    "print(structure_pdb.header[\"name\"]) \n",
    "print(structure_pdb.header[\"release_date\"]) \n",
    "print(structure_pdb.header[\"resolution\"])\n",
    "print(structure_pdb.header[\"keywords\"])"
   ]
  },
  {
   "cell_type": "code",
   "execution_count": 10,
   "metadata": {},
   "outputs": [
    {
     "name": "stdout",
     "output_type": "stream",
     "text": [
      "['52.12']\n",
      "1266\n",
      "['11.178', '10.462', '9.483', '8.979', '9.240', '8.164', '7.481', '7.424', '7.101', '7.724']\n"
     ]
    }
   ],
   "source": [
    "print(mmcif_dict[\"_exptl_crystal.density_percent_sol\"])\n",
    "y_list = mmcif_dict[\"_atom_site.Cartn_y\"] # All y coordinates\n",
    "print(len(y_list))\n",
    "print(y_list[:10])"
   ]
  },
  {
   "cell_type": "code",
   "execution_count": 22,
   "metadata": {},
   "outputs": [
    {
     "name": "stdout",
     "output_type": "stream",
     "text": [
      "[<Model id=0>]\n"
     ]
    }
   ],
   "source": [
    "models = list(structure_pdb.get_models())\n",
    "print(models)"
   ]
  },
  {
   "cell_type": "code",
   "execution_count": 15,
   "metadata": {},
   "outputs": [
    {
     "name": "stdout",
     "output_type": "stream",
     "text": [
      "[<Chain id=A>]\n"
     ]
    }
   ],
   "source": [
    "chains = list(models[0].get_chains()) \n",
    "print(chains)"
   ]
  },
  {
   "cell_type": "code",
   "execution_count": 19,
   "metadata": {},
   "outputs": [
    {
     "name": "stdout",
     "output_type": "stream",
     "text": [
      "154\n"
     ]
    }
   ],
   "source": [
    "residues_0 = list(chains[0].get_residues())\n",
    "print(len(residues_0))"
   ]
  },
  {
   "cell_type": "code",
   "execution_count": 26,
   "metadata": {},
   "outputs": [
    {
     "name": "stdout",
     "output_type": "stream",
     "text": [
      "<Residue GLY het=  resseq=1 icode= >\n",
      "[<Atom N>, <Atom CA>, <Atom C>, <Atom O>]\n",
      "<Vector 15.74, 11.18, -11.73>\n"
     ]
    }
   ],
   "source": [
    "print(residues_0[0])\n",
    "atoms = list(residues_0[0].get_atoms())\n",
    "print(atoms)\n",
    "print(atoms[0].get_vector())"
   ]
  },
  {
   "cell_type": "code",
   "execution_count": 26,
   "metadata": {},
   "outputs": [
    {
     "name": "stdout",
     "output_type": "stream",
     "text": [
      "<Atom N>\n",
      "<Vector 15.74, 11.18, -11.73>\n",
      "<Atom CA>\n",
      "<Vector 15.23, 10.46, -10.56>\n",
      "<Atom C>\n",
      "<Vector 16.28, 9.48, -10.00>\n",
      "<Atom O>\n",
      "<Vector 17.15, 8.98, -10.71>\n"
     ]
    }
   ],
   "source": [
    "for model in structure_pdb.get_models():\n",
    "    for chain in model.get_chains():        \n",
    "        for residue in chain.get_residues():\n",
    "            for atom in residue.get_atoms():\n",
    "                print(atom)\n",
    "                print(atom.get_vector())\n",
    "            break\n",
    "        break\n",
    "    break\n",
    "            \n",
    "    "
   ]
  },
  {
   "cell_type": "code",
   "execution_count": 20,
   "metadata": {},
   "outputs": [
    {
     "name": "stdout",
     "output_type": "stream",
     "text": [
      "['data_', '_entry.id', '_audit_conform.dict_name', '_audit_conform.dict_version', '_audit_conform.dict_location', '_database_2.database_id', '_database_2.database_code', '_pdbx_database_status.status_code', '_pdbx_database_status.entry_id', '_pdbx_database_status.recvd_initial_deposition_date']\n",
      "528\n"
     ]
    }
   ],
   "source": [
    "from Bio.PDB.MMCIF2Dict import MMCIF2Dict\n",
    "mmcif_dict = MMCIF2Dict(\"1mbs.cif\")\n",
    "print(list(mmcif_dict.keys())[:10])\n",
    "print(len(list(mmcif_dict.keys())))"
   ]
  },
  {
   "cell_type": "markdown",
   "metadata": {},
   "source": [
    "## Distance between two atoms"
   ]
  },
  {
   "cell_type": "code",
   "execution_count": 28,
   "metadata": {},
   "outputs": [
    {
     "name": "stdout",
     "output_type": "stream",
     "text": [
      "2.805758\n"
     ]
    }
   ],
   "source": [
    "import math\n",
    "coordinates_0 = atoms[0].get_vector()\n",
    "coordinates_1 = atoms[-1].get_vector()\n",
    "x0,y0,z0 = coordinates_0\n",
    "x1,y1,z1 = coordinates_1\n",
    "distance = math.sqrt((x1 - x0)**2 + (y1 - y0)**2 + (z1 - z0)**2)\n",
    "print(round(distance,6))\n"
   ]
  },
  {
   "cell_type": "code",
   "execution_count": 27,
   "metadata": {},
   "outputs": [
    {
     "name": "stdout",
     "output_type": "stream",
     "text": [
      "2.8057582\n"
     ]
    }
   ],
   "source": [
    "atoms = list(residues_0[0].get_atoms())\n",
    "print(atoms[0]-atoms[-1])#builtin in pdb module"
   ]
  },
  {
   "cell_type": "markdown",
   "metadata": {},
   "source": []
  },
  {
   "cell_type": "markdown",
   "metadata": {},
   "source": [
    "## Exercise\n",
    "<ol>\n",
    "<li>Create a DNA &lsquo;seq&rsquo; object using sequence. &lsquo;ATCCGGAATCCG&rsquo;.</li>\n",
    "<li>With the above seq object, find its reverse complement and its translated protein sequence.</li>\n",
    "<li>Read the fasta file &lsquo;exercise.fasta&rsquo; provided in the supplementary material and print the sequences.</li>\n",
    "<li>The above sequences are 16s mRNAs of certain microorganisms. Perform BLAST on the identify the species.</li>\n",
    "<li>Apply multiple sequence alignment on the sequences and construct a phylogenetic tree using BioPython Packages.</li>\n",
    "</ol>"
   ]
  },
  {
   "cell_type": "code",
   "execution_count": null,
   "metadata": {},
   "outputs": [],
   "source": []
  }
 ],
 "metadata": {
  "kernelspec": {
   "display_name": "Python 3",
   "language": "python",
   "name": "python3"
  },
  "language_info": {
   "codemirror_mode": {
    "name": "ipython",
    "version": 3
   },
   "file_extension": ".py",
   "mimetype": "text/x-python",
   "name": "python",
   "nbconvert_exporter": "python",
   "pygments_lexer": "ipython3",
   "version": "3.7.0"
  }
 },
 "nbformat": 4,
 "nbformat_minor": 4
}
