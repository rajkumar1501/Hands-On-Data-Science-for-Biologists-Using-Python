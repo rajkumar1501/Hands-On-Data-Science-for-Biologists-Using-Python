{
 "cells": [
  {
   "cell_type": "markdown",
   "metadata": {
    "colab_type": "text",
    "id": "KkyiYUUKvduR"
   },
   "source": [
    "# Programming with Python"
   ]
  },
  {
   "cell_type": "markdown",
   "metadata": {},
   "source": [
    "## Syntax for commenting"
   ]
  },
  {
   "cell_type": "markdown",
   "metadata": {
    "colab_type": "text",
    "id": "-AH5-55ovduS"
   },
   "source": [
    "Python interpreter will ignore any statement or line starting with '#'  and treat it as a comment."
   ]
  },
  {
   "cell_type": "code",
   "execution_count": 1,
   "metadata": {
    "colab": {},
    "colab_type": "code",
    "id": "-S0poxmFvduS",
    "outputId": "3bb1ffff-b66e-4c77-cdcb-a88e8f23ec8a"
   },
   "outputs": [
    {
     "name": "stdout",
     "output_type": "stream",
     "text": [
      "Something\n"
     ]
    }
   ],
   "source": [
    "#Let’s print something\n",
    "print('Something')"
   ]
  },
  {
   "cell_type": "markdown",
   "metadata": {
    "colab_type": "text",
    "id": "mrc1WFkWvduW"
   },
   "source": [
    "In the above code, we can see that the line started with '#' was ignored."
   ]
  },
  {
   "cell_type": "markdown",
   "metadata": {
    "colab_type": "text",
    "id": "qIq86S9nvduX"
   },
   "source": [
    "## Datatypes and Operators"
   ]
  },
  {
   "cell_type": "markdown",
   "metadata": {
    "colab_type": "text",
    "id": "4_I6xZInvduX"
   },
   "source": [
    "<p><strong>Datatypes:</strong></p>\n",
    "<ul>\n",
    "<li>int (means integer, or a whole number)</li>\n",
    "<li>float (means floating point, or decimal number)</li>\n",
    "<li>bool (means boolean, or a True/False)</li>\n",
    "<li>str (means string, or &lsquo;a piece of text&rsquo;)</li>\n",
    "</ul>"
   ]
  },
  {
   "cell_type": "code",
   "execution_count": 0,
   "metadata": {
    "colab": {},
    "colab_type": "code",
    "id": "zPi7lj_DvduY",
    "outputId": "2aafac96-2500-450e-cd7b-e9417e49203a"
   },
   "outputs": [
    {
     "name": "stdout",
     "output_type": "stream",
     "text": [
      "<class 'int'>\n",
      "<class 'float'>\n",
      "<class 'bool'>\n",
      "<class 'str'>\n"
     ]
    }
   ],
   "source": [
    "print(type(4)) # integer, or a whole number\n",
    "print(type(4.0)) # floating point, or decimal number\n",
    "print(type(True)) # boolean, or a True/False\n",
    "print(type('ATGAATGC')) # means string, or ‘a piece of text’"
   ]
  },
  {
   "cell_type": "markdown",
   "metadata": {
    "colab_type": "text",
    "id": "2_2e5bMHvdua"
   },
   "source": [
    "<p class=\"MsoNormal\" align=\"center\" style=\"text-align:center\"><b style=\"mso-bidi-font-weight:\n",
    "normal\"><span style=\"font-size:14.0pt;line-height:107%\">Some mathematical operators in\n",
    "python<o:p></o:p></span></b></p>\n",
    "\n",
    "<p class=\"MsoNormal\" align=\"center\" style=\"text-align:center\"><b style=\"mso-bidi-font-weight:\n",
    "normal\"><o:p>&nbsp;</o:p></b></p>\n",
    "\n",
    "<table class=\"MsoTableGrid\" border=\"1\" cellspacing=\"0\" cellpadding=\"0\" align=\"left\" style=\"border-collapse:collapse;mso-table-layout-alt:fixed;border:none;\n",
    " mso-border-alt:solid windowtext .5pt;mso-yfti-tbllook:1184;mso-table-lspace:\n",
    " 9.0pt;margin-left:6.75pt;mso-table-rspace:9.0pt;margin-right:6.75pt;\n",
    " mso-table-anchor-vertical:page;mso-table-anchor-horizontal:margin;mso-table-left:\n",
    " center;mso-table-top:118.85pt;mso-padding-alt:0cm 5.4pt 0cm 5.4pt\">\n",
    " <tbody><tr style=\"mso-yfti-irow:0;mso-yfti-firstrow:yes;height:17.55pt\">\n",
    "  <td width=\"138\" style=\"width:103.4pt;border:solid windowtext 1.0pt;mso-border-alt:\n",
    "  solid windowtext .5pt;padding:0cm 5.4pt 0cm 5.4pt;height:17.55pt\">\n",
    "  <p class=\"MsoNormal\" align=\"center\" style=\"margin-bottom:0cm;margin-bottom:.0001pt;\n",
    "  text-align:center;line-height:normal;mso-element:frame;mso-element-frame-hspace:\n",
    "  9.0pt;mso-element-wrap:around;mso-element-anchor-vertical:page;mso-element-anchor-horizontal:\n",
    "  margin;mso-element-left:center;mso-element-top:118.85pt;mso-height-rule:exactly\"><b style=\"mso-bidi-font-weight:normal\"><span style=\"font-size:12.0pt;color:windowtext\">Symbol<o:p></o:p></span></b></p>\n",
    "  </td>\n",
    "  <td width=\"138\" style=\"width:103.4pt;border:solid windowtext 1.0pt;border-left:\n",
    "  none;mso-border-left-alt:solid windowtext .5pt;mso-border-alt:solid windowtext .5pt;\n",
    "  padding:0cm 5.4pt 0cm 5.4pt;height:17.55pt\">\n",
    "  <p class=\"MsoNormal\" align=\"center\" style=\"margin-bottom:0cm;margin-bottom:.0001pt;\n",
    "  text-align:center;line-height:normal;mso-element:frame;mso-element-frame-hspace:\n",
    "  9.0pt;mso-element-wrap:around;mso-element-anchor-vertical:page;mso-element-anchor-horizontal:\n",
    "  margin;mso-element-left:center;mso-element-top:118.85pt;mso-height-rule:exactly\"><b style=\"mso-bidi-font-weight:normal\"><span style=\"font-size:12.0pt;color:windowtext\">Name<o:p></o:p></span></b></p>\n",
    "  </td>\n",
    " </tr>\n",
    " <tr style=\"mso-yfti-irow:1;height:17.55pt\">\n",
    "  <td width=\"138\" style=\"width:103.4pt;border:solid windowtext 1.0pt;border-top:\n",
    "  none;mso-border-top-alt:solid windowtext .5pt;mso-border-alt:solid windowtext .5pt;\n",
    "  padding:0cm 5.4pt 0cm 5.4pt;height:17.55pt\">\n",
    "  <p class=\"MsoNormal\" align=\"center\" style=\"margin-bottom:0cm;margin-bottom:.0001pt;\n",
    "  text-align:center;line-height:normal;mso-element:frame;mso-element-frame-hspace:\n",
    "  9.0pt;mso-element-wrap:around;mso-element-anchor-vertical:page;mso-element-anchor-horizontal:\n",
    "  margin;mso-element-left:center;mso-element-top:118.85pt;mso-height-rule:exactly\"><span style=\"font-size:12.0pt;color:windowtext\">+<o:p></o:p></span></p>\n",
    "  </td>\n",
    "  <td width=\"138\" style=\"width:103.4pt;border-top:none;border-left:none;\n",
    "  border-bottom:solid windowtext 1.0pt;border-right:solid windowtext 1.0pt;\n",
    "  mso-border-top-alt:solid windowtext .5pt;mso-border-left-alt:solid windowtext .5pt;\n",
    "  mso-border-alt:solid windowtext .5pt;padding:0cm 5.4pt 0cm 5.4pt;height:17.55pt\">\n",
    "  <p class=\"MsoNormal\" align=\"center\" style=\"margin-bottom:0cm;margin-bottom:.0001pt;\n",
    "  text-align:center;line-height:normal;mso-element:frame;mso-element-frame-hspace:\n",
    "  9.0pt;mso-element-wrap:around;mso-element-anchor-vertical:page;mso-element-anchor-horizontal:\n",
    "  margin;mso-element-left:center;mso-element-top:118.85pt;mso-height-rule:exactly\"><span style=\"font-size:12.0pt;color:windowtext\">Addition<o:p></o:p></span></p>\n",
    "  </td>\n",
    " </tr>\n",
    " <tr style=\"mso-yfti-irow:2;height:18.3pt\">\n",
    "  <td width=\"138\" style=\"width:103.4pt;border:solid windowtext 1.0pt;border-top:\n",
    "  none;mso-border-top-alt:solid windowtext .5pt;mso-border-alt:solid windowtext .5pt;\n",
    "  padding:0cm 5.4pt 0cm 5.4pt;height:18.3pt\">\n",
    "  <p class=\"MsoNormal\" align=\"center\" style=\"margin-bottom:0cm;margin-bottom:.0001pt;\n",
    "  text-align:center;line-height:normal;mso-element:frame;mso-element-frame-hspace:\n",
    "  9.0pt;mso-element-wrap:around;mso-element-anchor-vertical:page;mso-element-anchor-horizontal:\n",
    "  margin;mso-element-left:center;mso-element-top:118.85pt;mso-height-rule:exactly\"><span style=\"font-size:12.0pt;color:windowtext\">-<o:p></o:p></span></p>\n",
    "  </td>\n",
    "  <td width=\"138\" style=\"width:103.4pt;border-top:none;border-left:none;\n",
    "  border-bottom:solid windowtext 1.0pt;border-right:solid windowtext 1.0pt;\n",
    "  mso-border-top-alt:solid windowtext .5pt;mso-border-left-alt:solid windowtext .5pt;\n",
    "  mso-border-alt:solid windowtext .5pt;padding:0cm 5.4pt 0cm 5.4pt;height:18.3pt\">\n",
    "  <p class=\"MsoNormal\" align=\"center\" style=\"margin-bottom:0cm;margin-bottom:.0001pt;\n",
    "  text-align:center;line-height:normal;mso-element:frame;mso-element-frame-hspace:\n",
    "  9.0pt;mso-element-wrap:around;mso-element-anchor-vertical:page;mso-element-anchor-horizontal:\n",
    "  margin;mso-element-left:center;mso-element-top:118.85pt;mso-height-rule:exactly\"><span style=\"font-size:12.0pt;color:windowtext\">Subtraction<o:p></o:p></span></p>\n",
    "  </td>\n",
    " </tr>\n",
    " <tr style=\"mso-yfti-irow:3;height:17.55pt\">\n",
    "  <td width=\"138\" style=\"width:103.4pt;border:solid windowtext 1.0pt;border-top:\n",
    "  none;mso-border-top-alt:solid windowtext .5pt;mso-border-alt:solid windowtext .5pt;\n",
    "  padding:0cm 5.4pt 0cm 5.4pt;height:17.55pt\">\n",
    "  <p class=\"MsoNormal\" align=\"center\" style=\"margin-bottom:0cm;margin-bottom:.0001pt;\n",
    "  text-align:center;line-height:normal;mso-element:frame;mso-element-frame-hspace:\n",
    "  9.0pt;mso-element-wrap:around;mso-element-anchor-vertical:page;mso-element-anchor-horizontal:\n",
    "  margin;mso-element-left:center;mso-element-top:118.85pt;mso-height-rule:exactly\"><span style=\"font-size:12.0pt;color:windowtext\">*<o:p></o:p></span></p>\n",
    "  </td>\n",
    "  <td width=\"138\" style=\"width:103.4pt;border-top:none;border-left:none;\n",
    "  border-bottom:solid windowtext 1.0pt;border-right:solid windowtext 1.0pt;\n",
    "  mso-border-top-alt:solid windowtext .5pt;mso-border-left-alt:solid windowtext .5pt;\n",
    "  mso-border-alt:solid windowtext .5pt;padding:0cm 5.4pt 0cm 5.4pt;height:17.55pt\">\n",
    "  <p class=\"MsoNormal\" align=\"center\" style=\"margin-bottom:0cm;margin-bottom:.0001pt;\n",
    "  text-align:center;line-height:normal;mso-element:frame;mso-element-frame-hspace:\n",
    "  9.0pt;mso-element-wrap:around;mso-element-anchor-vertical:page;mso-element-anchor-horizontal:\n",
    "  margin;mso-element-left:center;mso-element-top:118.85pt;mso-height-rule:exactly\"><span style=\"font-size:12.0pt;color:windowtext\">Multiplication<o:p></o:p></span></p>\n",
    "  </td>\n",
    " </tr>\n",
    " <tr style=\"mso-yfti-irow:4;height:17.55pt\">\n",
    "  <td width=\"138\" style=\"width:103.4pt;border:solid windowtext 1.0pt;border-top:\n",
    "  none;mso-border-top-alt:solid windowtext .5pt;mso-border-alt:solid windowtext .5pt;\n",
    "  padding:0cm 5.4pt 0cm 5.4pt;height:17.55pt\">\n",
    "  <p class=\"MsoNormal\" align=\"center\" style=\"margin-bottom:0cm;margin-bottom:.0001pt;\n",
    "  text-align:center;line-height:normal;mso-element:frame;mso-element-frame-hspace:\n",
    "  9.0pt;mso-element-wrap:around;mso-element-anchor-vertical:page;mso-element-anchor-horizontal:\n",
    "  margin;mso-element-left:center;mso-element-top:118.85pt;mso-height-rule:exactly\"><span style=\"font-size:12.0pt;color:windowtext\">/<o:p></o:p></span></p>\n",
    "  </td>\n",
    "  <td width=\"138\" style=\"width:103.4pt;border-top:none;border-left:none;\n",
    "  border-bottom:solid windowtext 1.0pt;border-right:solid windowtext 1.0pt;\n",
    "  mso-border-top-alt:solid windowtext .5pt;mso-border-left-alt:solid windowtext .5pt;\n",
    "  mso-border-alt:solid windowtext .5pt;padding:0cm 5.4pt 0cm 5.4pt;height:17.55pt\">\n",
    "  <p class=\"MsoNormal\" align=\"center\" style=\"margin-bottom:0cm;margin-bottom:.0001pt;\n",
    "  text-align:center;line-height:normal;mso-element:frame;mso-element-frame-hspace:\n",
    "  9.0pt;mso-element-wrap:around;mso-element-anchor-vertical:page;mso-element-anchor-horizontal:\n",
    "  margin;mso-element-left:center;mso-element-top:118.85pt;mso-height-rule:exactly\"><span style=\"font-size:12.0pt;color:windowtext\">Division<o:p></o:p></span></p>\n",
    "  </td>\n",
    " </tr>\n",
    " <tr style=\"mso-yfti-irow:5;height:17.55pt\">\n",
    "  <td width=\"138\" style=\"width:103.4pt;border:solid windowtext 1.0pt;border-top:\n",
    "  none;mso-border-top-alt:solid windowtext .5pt;mso-border-alt:solid windowtext .5pt;\n",
    "  padding:0cm 5.4pt 0cm 5.4pt;height:17.55pt\">\n",
    "  <p class=\"MsoNormal\" align=\"center\" style=\"margin-bottom:0cm;margin-bottom:.0001pt;\n",
    "  text-align:center;line-height:normal;mso-element:frame;mso-element-frame-hspace:\n",
    "  9.0pt;mso-element-wrap:around;mso-element-anchor-vertical:page;mso-element-anchor-horizontal:\n",
    "  margin;mso-element-left:center;mso-element-top:118.85pt;mso-height-rule:exactly\"><span style=\"font-size:12.0pt;color:windowtext\">**<o:p></o:p></span></p>\n",
    "  </td>\n",
    "  <td width=\"138\" style=\"width:103.4pt;border-top:none;border-left:none;\n",
    "  border-bottom:solid windowtext 1.0pt;border-right:solid windowtext 1.0pt;\n",
    "  mso-border-top-alt:solid windowtext .5pt;mso-border-left-alt:solid windowtext .5pt;\n",
    "  mso-border-alt:solid windowtext .5pt;padding:0cm 5.4pt 0cm 5.4pt;height:17.55pt\">\n",
    "  <p class=\"MsoNormal\" align=\"center\" style=\"margin-bottom:0cm;margin-bottom:.0001pt;\n",
    "  text-align:center;line-height:normal;mso-element:frame;mso-element-frame-hspace:\n",
    "  9.0pt;mso-element-wrap:around;mso-element-anchor-vertical:page;mso-element-anchor-horizontal:\n",
    "  margin;mso-element-left:center;mso-element-top:118.85pt;mso-height-rule:exactly\"><span style=\"font-size:12.0pt;color:windowtext\">Power<o:p></o:p></span></p>\n",
    "  </td>\n",
    " </tr>\n",
    " <tr style=\"mso-yfti-irow:6;height:18.3pt\">\n",
    "  <td width=\"138\" style=\"width:103.4pt;border:solid windowtext 1.0pt;border-top:\n",
    "  none;mso-border-top-alt:solid windowtext .5pt;mso-border-alt:solid windowtext .5pt;\n",
    "  padding:0cm 5.4pt 0cm 5.4pt;height:18.3pt\">\n",
    "  <p class=\"MsoNormal\" align=\"center\" style=\"margin-bottom:0cm;margin-bottom:.0001pt;\n",
    "  text-align:center;line-height:normal;mso-element:frame;mso-element-frame-hspace:\n",
    "  9.0pt;mso-element-wrap:around;mso-element-anchor-vertical:page;mso-element-anchor-horizontal:\n",
    "  margin;mso-element-left:center;mso-element-top:118.85pt;mso-height-rule:exactly\"><span style=\"font-size:12.0pt;color:windowtext\">%<o:p></o:p></span></p>\n",
    "  </td>\n",
    "  <td width=\"138\" style=\"width:103.4pt;border-top:none;border-left:none;\n",
    "  border-bottom:solid windowtext 1.0pt;border-right:solid windowtext 1.0pt;\n",
    "  mso-border-top-alt:solid windowtext .5pt;mso-border-left-alt:solid windowtext .5pt;\n",
    "  mso-border-alt:solid windowtext .5pt;padding:0cm 5.4pt 0cm 5.4pt;height:18.3pt\">\n",
    "  <p class=\"MsoNormal\" align=\"center\" style=\"margin-bottom:0cm;margin-bottom:.0001pt;\n",
    "  text-align:center;line-height:normal;mso-element:frame;mso-element-frame-hspace:\n",
    "  9.0pt;mso-element-wrap:around;mso-element-anchor-vertical:page;mso-element-anchor-horizontal:\n",
    "  margin;mso-element-left:center;mso-element-top:118.85pt;mso-height-rule:exactly\"><span style=\"font-size:12.0pt;color:windowtext\">Modulo<o:p></o:p></span></p>\n",
    "  </td>\n",
    " </tr>\n",
    " <tr style=\"mso-yfti-irow:7;mso-yfti-lastrow:yes;height:18.3pt\">\n",
    "  <td width=\"138\" style=\"width:103.4pt;border:solid windowtext 1.0pt;border-top:\n",
    "  none;mso-border-top-alt:solid windowtext .5pt;mso-border-alt:solid windowtext .5pt;\n",
    "  padding:0cm 5.4pt 0cm 5.4pt;height:18.3pt\">\n",
    "  <p class=\"MsoNormal\" align=\"center\" style=\"margin-bottom:0cm;margin-bottom:.0001pt;\n",
    "  text-align:center;line-height:normal;mso-element:frame;mso-element-frame-hspace:\n",
    "  9.0pt;mso-element-wrap:around;mso-element-anchor-vertical:page;mso-element-anchor-horizontal:\n",
    "  margin;mso-element-left:center;mso-element-top:118.85pt;mso-height-rule:exactly\"><span style=\"font-size:12.0pt;color:windowtext\">=<o:p></o:p></span></p>\n",
    "  </td>\n",
    "  <td width=\"138\" style=\"width:103.4pt;border-top:none;border-left:none;\n",
    "  border-bottom:solid windowtext 1.0pt;border-right:solid windowtext 1.0pt;\n",
    "  mso-border-top-alt:solid windowtext .5pt;mso-border-left-alt:solid windowtext .5pt;\n",
    "  mso-border-alt:solid windowtext .5pt;padding:0cm 5.4pt 0cm 5.4pt;height:18.3pt\">\n",
    "  <p class=\"MsoNormal\" align=\"center\" style=\"margin-bottom:0cm;margin-bottom:.0001pt;\n",
    "  text-align:center;line-height:normal;mso-element:frame;mso-element-frame-hspace:\n",
    "  9.0pt;mso-element-wrap:around;mso-element-anchor-vertical:page;mso-element-anchor-horizontal:\n",
    "  margin;mso-element-left:center;mso-element-top:118.85pt;mso-height-rule:exactly\"><span style=\"font-size:12.0pt;color:windowtext\">Equal to<o:p></o:p></span></p>\n",
    "  </td>\n",
    " </tr>\n",
    "</tbody></table>\n",
    "\n",
    "<p class=\"MsoNormal\" align=\"center\" style=\"text-align:center\"><b style=\"mso-bidi-font-weight:\n",
    "normal\"><o:p>&nbsp;</o:p></b></p>\n",
    "\n",
    "<p class=\"MsoNormal\" align=\"center\" style=\"text-align:center\"><b style=\"mso-bidi-font-weight:\n",
    "normal\"><o:p>&nbsp;</o:p></b></p>\n",
    "\n",
    "<p class=\"MsoNormal\"><o:p>&nbsp;</o:p></p>\n",
    "\n",
    "<p class=\"MsoNormal\"><o:p>&nbsp;</o:p></p>\n",
    "\n",
    "<p class=\"MsoNormal\"><o:p>&nbsp;</o:p></p>\n",
    "\n",
    "<p class=\"MsoNormal\"><o:p>&nbsp;</o:p></p>\n",
    "\n",
    "<p class=\"MsoNormal\"><o:p>&nbsp;</o:p></p>"
   ]
  },
  {
   "cell_type": "code",
   "execution_count": 0,
   "metadata": {
    "colab": {},
    "colab_type": "code",
    "id": "YbETZTGuvdua",
    "outputId": "d8c0f1c5-3332-4105-8461-76395caabab9"
   },
   "outputs": [
    {
     "name": "stdout",
     "output_type": "stream",
     "text": [
      "10\n",
      "10.0\n",
      "3\n",
      "3.0\n",
      "10\n",
      "10.0\n",
      "8.0\n",
      "256.0\n"
     ]
    }
   ],
   "source": [
    "# Addition\n",
    "print(4 + 6) #Integer + Interger\n",
    "print(4 + 6.0) #Integer + Float\n",
    "# Subtraction\n",
    "print(6-3) #Integer - Interger\n",
    "print(6-3.0) #Integer - Float\n",
    "# Multiplication\n",
    "print(2 * 5) #Integer * Interger\n",
    "print(2 * 5.0) #Integer * Float\n",
    "# Division\n",
    "print(24/3)\n",
    "# Power\n",
    "print(2**8) #Integer ** Interger\n",
    "print(2**8.0) #Integer ** Float"
   ]
  },
  {
   "cell_type": "code",
   "execution_count": 0,
   "metadata": {
    "colab": {},
    "colab_type": "code",
    "id": "05bFNA7dvdud",
    "outputId": "44056890-0f1a-4395-8be1-e6768d0144ac"
   },
   "outputs": [
    {
     "data": {
      "text/plain": [
       "2"
      ]
     },
     "execution_count": 5,
     "metadata": {
      "tags": []
     },
     "output_type": "execute_result"
    }
   ],
   "source": [
    "# ‘%’ or modulo operator, also known as the remainder operator, its give the remainder of two numbers which are not a factor \n",
    "# of each other \n",
    "\n",
    "8%3"
   ]
  },
  {
   "cell_type": "markdown",
   "metadata": {
    "colab_type": "text",
    "id": "QZCSyVwLvduf"
   },
   "source": [
    "### Order of operation - PEMDAS\n",
    "\n",
    "<ol>\n",
    "<li>Parentheses ( )</li>\n",
    "<li>Exponent **</li>\n",
    "<li>Multiplication *</li>\n",
    "<li>Division / // %</li>\n",
    "<li>Addition +</li>\n",
    "<li>Subtraction -</li>\n",
    "</ol>\n",
    "<p>&nbsp;&nbsp;&nbsp;&nbsp;&nbsp;&nbsp;&nbsp;&nbsp;&nbsp;&nbsp;&nbsp;&nbsp;&nbsp;&nbsp;&nbsp; Notes:</p>\n",
    "<p>&nbsp;&nbsp;&nbsp;&nbsp;&nbsp;&nbsp;&nbsp;&nbsp;&nbsp;&nbsp;&nbsp;&nbsp;&nbsp;&nbsp; - after PEMDAS order goes left to right</p>\n",
    "<p>&nbsp;&nbsp;&nbsp;&nbsp;&nbsp;&nbsp;&nbsp;&nbsp;&nbsp;&nbsp;&nbsp;&nbsp;&nbsp;&nbsp; - use parentheses to override order</p>"
   ]
  },
  {
   "cell_type": "code",
   "execution_count": 0,
   "metadata": {
    "colab": {},
    "colab_type": "code",
    "id": "6GE3LchHvduf",
    "outputId": "07324645-abdb-42bc-a565-71db661162ad"
   },
   "outputs": [
    {
     "data": {
      "text/plain": [
       "12.0"
      ]
     },
     "execution_count": 6,
     "metadata": {
      "tags": []
     },
     "output_type": "execute_result"
    }
   ],
   "source": [
    "#Evaluate\n",
    "2+5*4/2 "
   ]
  },
  {
   "cell_type": "markdown",
   "metadata": {
    "colab_type": "text",
    "id": "dcTAXA33vdui"
   },
   "source": [
    "## Variables"
   ]
  },
  {
   "cell_type": "code",
   "execution_count": 0,
   "metadata": {
    "colab": {},
    "colab_type": "code",
    "id": "ZohPKAXXvdui",
    "outputId": "8082eed1-21d2-43ee-841b-6932592a64a3"
   },
   "outputs": [
    {
     "data": {
      "text/plain": [
       "1300"
      ]
     },
     "execution_count": 1,
     "metadata": {
      "tags": []
     },
     "output_type": "execute_result"
    }
   ],
   "source": [
    "# name         = value\n",
    "lenght_of_gene = 1300\n",
    "lenght_of_gene = 350"
   ]
  },
  {
   "cell_type": "code",
   "execution_count": 0,
   "metadata": {
    "colab": {},
    "colab_type": "code",
    "id": "jFwNtqotvdul",
    "outputId": "2f140826-6768-45fe-b0d0-156d42600bc8"
   },
   "outputs": [
    {
     "name": "stdout",
     "output_type": "stream",
     "text": [
      "950\n"
     ]
    }
   ],
   "source": [
    "lenght_of_gene = 1300\n",
    "length_of_introns = 350\n",
    "length_of_mrna = lenght_of_gene - length_of_introns\n",
    "print(length_of_rna)"
   ]
  },
  {
   "cell_type": "code",
   "execution_count": 0,
   "metadata": {
    "colab": {},
    "colab_type": "code",
    "id": "JnlgQSREvdun"
   },
   "outputs": [],
   "source": [
    "some_var = 100\n",
    "another_var = some_var #Variables can be assigned to other variables\n",
    "some_var = 300         #Reassigned any time to other values \n",
    "lenght_of_gene,length_of_introns = 1300,350 # Allocate more that one variable at a time"
   ]
  },
  {
   "cell_type": "markdown",
   "metadata": {
    "colab_type": "text",
    "id": "xcBkIDYevdup"
   },
   "source": [
    "## Strings"
   ]
  },
  {
   "cell_type": "code",
   "execution_count": 0,
   "metadata": {
    "colab": {},
    "colab_type": "code",
    "id": "0ZXjrkXAvdup",
    "outputId": "4dfb4d7a-d201-4f17-883f-7092bc229c3a",
    "scrolled": true
   },
   "outputs": [
    {
     "name": "stdout",
     "output_type": "stream",
     "text": [
      "ATGCGTCA\n",
      "---------\n",
      "ATGCGTCA\n",
      "---------\n",
      "ATGCGTCA\n",
      "---------\n",
      "ATGCGTCA\n",
      "---------\n",
      "MALNSGSPPA\n",
      "IGPYYENHGY\n",
      "---------\n",
      "IGPYYENHGY\n",
      "    IGPYYENHGY\n"
     ]
    }
   ],
   "source": [
    "\n",
    "# A string  within a pair of single quotes\n",
    "seq_1 = 'ATGCGTCA'\n",
    "print(seq_1)\n",
    "print('---------')\n",
    "\n",
    "# A string within a pair of double quotes\n",
    "seq_2 = \"ATGCGTCA\"\n",
    "print(seq_2)\n",
    "print('---------')\n",
    "\n",
    "# A string within a pair of triple single quotes\n",
    "seq_3 = '''ATGCGTCA'''\n",
    "print(seq_3)\n",
    "print('---------')\n",
    "# A string within a pair of triple double quotes\n",
    "seq_4 = \"\"\"ATGCGTCA\"\"\"\n",
    "print(seq_4)\n",
    "print('---------')\n",
    "# A string within a pair of triple single quotes, can have multiple lines\n",
    "seq_5 = '''MALNSGSPPA\n",
    "IGPYYENHGY'''\n",
    "print(seq_5)\n",
    "print('---------')\n",
    "# A string within a pair of triple double quotes, can have multiple lines\n",
    "seq_6 = \"\"\"IGPYYENHGY\n",
    "    IGPYYENHGY\"\"\"\n",
    "print(seq_6)\n"
   ]
  },
  {
   "cell_type": "code",
   "execution_count": 0,
   "metadata": {
    "colab": {},
    "colab_type": "code",
    "id": "S5kJvn4xvdur",
    "outputId": "898f985a-fcd0-490a-ea80-7d0b8a4e63af"
   },
   "outputs": [
    {
     "name": "stdout",
     "output_type": "stream",
     "text": [
      " Hey Jhon, \"How'r you?\" \n",
      "---------\n",
      "First line\n",
      "second line\n",
      "---------\n",
      "\\\n"
     ]
    }
   ],
   "source": [
    "# Escape Sequence Characters\n",
    "\n",
    "print(' Hey Jhon, \"How\\'r you?\" ') #escaping single quotes\n",
    "print('---------')\n",
    "print('First line\\nsecond line') #escaping new line\n",
    "print('---------')\n",
    "print('\\\\') #escaping Backslash"
   ]
  },
  {
   "cell_type": "code",
   "execution_count": 0,
   "metadata": {
    "colab": {},
    "colab_type": "code",
    "id": "AK7YOy6jvdut",
    "outputId": "34c42c40-c511-4139-a54c-ec7f5dde36d9"
   },
   "outputs": [
    {
     "name": "stdout",
     "output_type": "stream",
     "text": [
      "T\n"
     ]
    }
   ],
   "source": [
    "#We have a DNA sequence ‘ATGCGTCA’, and we have to grab the first nucleotide.\n",
    "#try to grab the first nucleotide \n",
    "dna_seq = 'ATGCGTCA'\n",
    "print(dna_seq[1])"
   ]
  },
  {
   "cell_type": "markdown",
   "metadata": {
    "colab_type": "text",
    "id": "6dtM9Vbwvduv"
   },
   "source": [
    "#### String indexing in python\n",
    "<p><img src=\"data:image/png;base64,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\"></p>"
   ]
  },
  {
   "cell_type": "code",
   "execution_count": 0,
   "metadata": {
    "colab": {},
    "colab_type": "code",
    "id": "rGElKlthvduw",
    "outputId": "574030cd-e603-4785-e75d-560ddd91e23a"
   },
   "outputs": [
    {
     "name": "stdout",
     "output_type": "stream",
     "text": [
      "A\n",
      "---------\n",
      "C\n"
     ]
    }
   ],
   "source": [
    "# Now grab the first nucleotide \n",
    "dna_seq = 'ATGCGTCA'\n",
    "print(dna_seq[0])\n",
    "print('---------')\n",
    "# grab the second last nucleotide\n",
    "print(dna_seq[-2])"
   ]
  },
  {
   "cell_type": "code",
   "execution_count": 0,
   "metadata": {
    "colab": {},
    "colab_type": "code",
    "id": "G_cESI36vduy",
    "outputId": "a78ed19b-0c5f-4b80-d518-e9b32a322631"
   },
   "outputs": [
    {
     "name": "stdout",
     "output_type": "stream",
     "text": [
      "CGT\n",
      "CGTCA\n",
      "ATGCGTCA\n",
      "TGCGTCA\n",
      "ATGC\n",
      "GTCA\n"
     ]
    }
   ],
   "source": [
    "dna_seq = 'ATGCGTCA'\n",
    "print(dna_seq[3:6])\n",
    "print(dna_seq[3:])\n",
    "print(dna_seq[:] )\n",
    "print(dna_seq[1:500])\n",
    "print(dna_seq[:-4])\n",
    "print(dna_seq [-4:])\n"
   ]
  },
  {
   "cell_type": "code",
   "execution_count": 0,
   "metadata": {
    "colab": {},
    "colab_type": "code",
    "id": "1xuzB8ddvdu0",
    "outputId": "8705592b-3e30-4eb5-99db-21b06d941867"
   },
   "outputs": [
    {
     "name": "stdout",
     "output_type": "stream",
     "text": [
      "Sequence of DNA is ATGCGTCAACTGCGTC\n"
     ]
    }
   ],
   "source": [
    "#String concatenation\n",
    "dna_1 = 'ATGCGTCA'\n",
    "dna_2 = 'ACTGCGTC'\n",
    "full_dna = dna_1 + dna_2\n",
    "print('Sequence of DNA is '+full_dna)"
   ]
  },
  {
   "cell_type": "code",
   "execution_count": 0,
   "metadata": {
    "colab": {},
    "colab_type": "code",
    "id": "Mqxm_Ritvdu2",
    "outputId": "98007b41-3f17-445c-a34a-b3a8a52f6ccb"
   },
   "outputs": [
    {
     "data": {
      "text/plain": [
       "'ACTGCGTCACTGCGTC'"
      ]
     },
     "execution_count": 19,
     "metadata": {
      "tags": []
     },
     "output_type": "execute_result"
    }
   ],
   "source": [
    "'ACTGCGTC'*2 "
   ]
  },
  {
   "cell_type": "markdown",
   "metadata": {
    "colab_type": "text",
    "id": "BQ6oUnvhvdu4"
   },
   "source": [
    "### Methods in strings"
   ]
  },
  {
   "cell_type": "code",
   "execution_count": 0,
   "metadata": {
    "colab": {},
    "colab_type": "code",
    "id": "xNcXgqGfvdu5",
    "outputId": "995c3cae-ca8c-4e40-f3ab-6cbbc74b3526"
   },
   "outputs": [
    {
     "name": "stdout",
     "output_type": "stream",
     "text": [
      "atgcgtca\n",
      "---------\n",
      "ATGCGTCA\n"
     ]
    }
   ],
   "source": [
    "#str.upper()\n",
    "dna_seq = 'ATGCGTCA'\n",
    "print(dna_seq.lower())\n",
    "print('---------')\n",
    "print(dna_seq)"
   ]
  },
  {
   "cell_type": "code",
   "execution_count": 0,
   "metadata": {
    "colab": {},
    "colab_type": "code",
    "id": "N-W8hurHvdu7",
    "outputId": "7bfde2ff-054d-4075-e69f-1a3a7304031a"
   },
   "outputs": [
    {
     "name": "stdout",
     "output_type": "stream",
     "text": [
      "2\n",
      "4\n",
      "8\n"
     ]
    }
   ],
   "source": [
    "dna_seq = 'ATGCGTCA'\n",
    "print(dna_seq.count('A'))\n",
    "print(dna_seq.find('GT'))\n",
    "print(len(dna_seq))\n"
   ]
  },
  {
   "cell_type": "code",
   "execution_count": 0,
   "metadata": {
    "colab": {},
    "colab_type": "code",
    "id": "sae4K0Xbvdu9",
    "outputId": "6429727d-2e60-4192-b49c-9aeea11d0e19"
   },
   "outputs": [
    {
     "name": "stdout",
     "output_type": "stream",
     "text": [
      "['DNA', 'ATGCGTCA', 'Homo Sepien']\n"
     ]
    }
   ],
   "source": [
    "data = 'DNA,ATGCGTCA,Homo Sepien'\n",
    "print(data.split(','))"
   ]
  },
  {
   "cell_type": "code",
   "execution_count": 0,
   "metadata": {
    "colab": {},
    "colab_type": "code",
    "id": "M1hvGai9vdvB",
    "outputId": "61e84cb8-c906-4274-f09a-99fec9e83dcd"
   },
   "outputs": [
    {
     "name": "stdout",
     "output_type": "stream",
     "text": [
      "148\n",
      "72\n",
      "0\n",
      "---------\n",
      "['6', '148', '72', '35', '0', '33.6', '0.627', '50', '1']\n"
     ]
    }
   ],
   "source": [
    "#str.split()\n",
    "first_row = '6,148,72,35,0,33.6,0.627,50,1'\n",
    "Pregnancies,Glucose,BloodPressure,SkinThickness,Insulin,BMI,DiabetesPedigreeFunction,Age,Outcome = first_row.split(',')\n",
    "print(Glucose)\n",
    "print(BloodPressure)\n",
    "print(Insulin)\n",
    "print('---------')\n",
    "print(first_row.split(','))"
   ]
  },
  {
   "cell_type": "code",
   "execution_count": 0,
   "metadata": {
    "colab": {},
    "colab_type": "code",
    "id": "f7sMof22vdvD",
    "outputId": "341279bf-1bbd-4372-b0a7-70265e78fe2e"
   },
   "outputs": [
    {
     "name": "stdout",
     "output_type": "stream",
     "text": [
      "Length of ATGCGTCA is 8 \n"
     ]
    }
   ],
   "source": [
    "# formating print statement\n",
    "\n",
    "dna_seq = 'ATGCGTCA'\n",
    "length_of_dna = len(dna_seq)\n",
    "print('Length of {} is {} '.format(dna_seq,length_of_dna))\n",
    "\n"
   ]
  },
  {
   "cell_type": "markdown",
   "metadata": {
    "colab_type": "text",
    "id": "zizHAo38vdvF"
   },
   "source": [
    "## Lists and Tuples"
   ]
  },
  {
   "cell_type": "markdown",
   "metadata": {
    "colab_type": "text",
    "id": "6eHprYi-vdvF"
   },
   "source": [
    "### Lists"
   ]
  },
  {
   "cell_type": "code",
   "execution_count": 0,
   "metadata": {
    "colab": {},
    "colab_type": "code",
    "id": "li5LqwqZvdvF",
    "outputId": "5c479d52-981d-47fa-cbc8-340c0efeb7fc"
   },
   "outputs": [
    {
     "data": {
      "text/plain": [
       "[1, 2, 3, 4, 5]"
      ]
     },
     "execution_count": 30,
     "metadata": {
      "tags": []
     },
     "output_type": "execute_result"
    }
   ],
   "source": [
    "# Creating an empty list called \"list\"\n",
    "list = [ ]\n",
    "# Adding the values inside the list\n",
    "list = [ 1, 2, 3, 4, 5]\n",
    "# Printing the list\n",
    "list"
   ]
  },
  {
   "cell_type": "code",
   "execution_count": 0,
   "metadata": {
    "colab": {},
    "colab_type": "code",
    "id": "ucm5hoPFvdvH",
    "outputId": "4234f28c-05e3-46bb-81af-9e3934137f9a"
   },
   "outputs": [
    {
     "data": {
      "text/plain": [
       "[1, 2, 3, 'Metformin', 4.0, 2.0]"
      ]
     },
     "execution_count": 39,
     "metadata": {
      "tags": []
     },
     "output_type": "execute_result"
    }
   ],
   "source": [
    "# Adding the values irrespective of their data type: Integer, String, float.\n",
    "list = [1, 2, 3,'Metformin', 4.0, 4/2]\n",
    "list"
   ]
  },
  {
   "cell_type": "code",
   "execution_count": 0,
   "metadata": {
    "colab": {},
    "colab_type": "code",
    "id": "5xKmbSHIvdvJ",
    "outputId": "34d7b8ea-2ee4-42ba-91bc-1ea922151c74"
   },
   "outputs": [
    {
     "name": "stdout",
     "output_type": "stream",
     "text": [
      "['Metformin', 'Acarbose', 'Canagliflozin', 'Dapagliflozin']\n"
     ]
    }
   ],
   "source": [
    "# Creating a list called drug_name\n",
    "drug_name = ['Metformin', 'Acarbose', 'Canagliflozin','Dapagliflozin']\n",
    "print(drug_name)"
   ]
  },
  {
   "cell_type": "markdown",
   "metadata": {
    "colab_type": "text",
    "id": "fPiDw2rYvdvL"
   },
   "source": [
    "### Accessing Values in List\n",
    "\n",
    "<p><img src=\"data:image/png;base64,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\"></p>"
   ]
  },
  {
   "cell_type": "code",
   "execution_count": 0,
   "metadata": {
    "colab": {},
    "colab_type": "code",
    "id": "PI4EvwE5vdvM",
    "outputId": "e1a61533-c624-4b2d-ddf2-9fde6e1468af"
   },
   "outputs": [
    {
     "name": "stdout",
     "output_type": "stream",
     "text": [
      "Metformin\n",
      "Canagliflozin\n",
      "4\n",
      "9\n"
     ]
    }
   ],
   "source": [
    "# Accessing the elements in the list\n",
    "print(drug_name[0]) # Metformin\n",
    "print(drug_name[-2]) # Canagliflozin\n",
    "# Calculating the length of the list.\n",
    "print(len(drug_name))\n",
    "# Calculating the length of individual elements in a list\n",
    "print(len(drug_name[0]))   # length of \"Metformin\" is 9"
   ]
  },
  {
   "cell_type": "markdown",
   "metadata": {
    "colab_type": "text",
    "id": "AH8D02X8vdvN"
   },
   "source": [
    "### List inside list"
   ]
  },
  {
   "cell_type": "code",
   "execution_count": 0,
   "metadata": {
    "colab": {},
    "colab_type": "code",
    "id": "b66wf4rZvdvO",
    "outputId": "007bde6d-0d3d-4288-8c32-9dff2b1118e7"
   },
   "outputs": [
    {
     "name": "stdout",
     "output_type": "stream",
     "text": [
      "list1_2\n"
     ]
    }
   ],
   "source": [
    "#list in side list be like list = [[],[],[]]\n",
    "list_in_list = [['list0_0','list0_1','list0_2'],['list1_0','list1_1','list1_2']]\n",
    "#grab 'list1_2'\n",
    "print(list_in_list[1][2])"
   ]
  },
  {
   "cell_type": "markdown",
   "metadata": {
    "colab_type": "text",
    "id": "3P8fX2CKvdvP"
   },
   "source": [
    "### Slicing Lists"
   ]
  },
  {
   "cell_type": "code",
   "execution_count": 0,
   "metadata": {
    "colab": {},
    "colab_type": "code",
    "id": "tz8duwQGvdvQ",
    "outputId": "0c53fb4f-a007-470a-ad95-e8fd43090e90"
   },
   "outputs": [
    {
     "name": "stdout",
     "output_type": "stream",
     "text": [
      "['Metformin', 'Acarbose']\n",
      "['Metformin', 'Acarbose', 'Canagliflozin']\n",
      "['Acarbose', 'Canagliflozin', 'Dapagliflozin']\n",
      "['Metformin', 'Acarbose', 'Canagliflozin', 'Dapagliflozin']\n"
     ]
    }
   ],
   "source": [
    "drug_name = ['Metformin', 'Acarbose', 'Canagliflozin','Dapagliflozin']\n",
    "# first index is inclusive (before the :) and last (after the :) is not. \n",
    "# not including index 2\n",
    "print(drug_name[0:2])\n",
    "# everything up to index 3\n",
    "print(drug_name[:3])\n",
    "# index 1 to end of list\n",
    "print(drug_name[1:])\n",
    "# Coping whole list\n",
    "print(drug_name[:])\n"
   ]
  },
  {
   "cell_type": "markdown",
   "metadata": {
    "colab_type": "text",
    "id": "zj4_cYrcvdvR"
   },
   "source": [
    "### Operations with lists\n"
   ]
  },
  {
   "cell_type": "code",
   "execution_count": 0,
   "metadata": {
    "colab": {},
    "colab_type": "code",
    "id": "03M0LC8kvdvS",
    "outputId": "04ef8ec6-07f3-40c2-db0a-d0ab77508269"
   },
   "outputs": [
    {
     "name": "stdout",
     "output_type": "stream",
     "text": [
      "['Metformin', 'Acarbose', 'Canagliflozin', 'Dapagliflozin', 'Drospirenone', 'Metformin', 'Letrozole', 'Norgestimate']\n",
      "---------\n",
      "['Metformin', 'Metformin', 'Metformin', 'Metformin']\n"
     ]
    }
   ],
   "source": [
    "diabetes_drug =  ['Metformin', 'Acarbose', 'Canagliflozin','Dapagliflozin']\n",
    "pcos_drug = ['Drospirenone','Metformin', 'Letrozole', 'Norgestimate']\n",
    "# Concatenating Lists using '+' operator\n",
    "all_drugs = diabetes_drug + pcos_drug\n",
    "print(all_drugs)\n",
    "print('---------')\n",
    "# Use of '*' operator in list\n",
    "drugs = ['Metformin']*4\n",
    "print(drugs)"
   ]
  },
  {
   "cell_type": "markdown",
   "metadata": {
    "colab_type": "text",
    "id": "LfXtEpujvdvU"
   },
   "source": [
    "### Count Number of Times Value is in List"
   ]
  },
  {
   "cell_type": "code",
   "execution_count": 0,
   "metadata": {
    "colab": {},
    "colab_type": "code",
    "id": "WAga5ROzvdvU",
    "outputId": "52d0d6a8-7e49-4a4c-b4e4-7a134849630a"
   },
   "outputs": [
    {
     "name": "stdout",
     "output_type": "stream",
     "text": [
      "2\n"
     ]
    }
   ],
   "source": [
    "print(all_drugs.count('Metformin'))"
   ]
  },
  {
   "cell_type": "markdown",
   "metadata": {
    "colab_type": "text",
    "id": "Li8W2OWevdvW"
   },
   "source": [
    "### Return Index of Value"
   ]
  },
  {
   "cell_type": "code",
   "execution_count": 0,
   "metadata": {
    "colab": {},
    "colab_type": "code",
    "id": "Z8VA6F_KvdvW",
    "outputId": "92a36528-61d6-4ed8-f00c-f2a85d5e70a9"
   },
   "outputs": [
    {
     "name": "stdout",
     "output_type": "stream",
     "text": [
      "2\n"
     ]
    }
   ],
   "source": [
    "print(all_drugs.index('Canagliflozin'))"
   ]
  },
  {
   "cell_type": "markdown",
   "metadata": {
    "colab_type": "text",
    "id": "Fm_xH7GUvdvY"
   },
   "source": [
    "### Sorting a list"
   ]
  },
  {
   "cell_type": "code",
   "execution_count": 0,
   "metadata": {
    "colab": {},
    "colab_type": "code",
    "id": "zw6rAleyvdvY",
    "outputId": "e1074e27-4b25-4230-d857-bb27a18223b8"
   },
   "outputs": [
    {
     "name": "stdout",
     "output_type": "stream",
     "text": [
      "[2, 3, 4, 7, 8, 10, 11]\n",
      "[11, 10, 8, 7, 4, 3, 2]\n",
      "['Acarbose', 'Canagliflozin', 'Dapagliflozin', 'Drospirenone', 'Letrozole', 'Metformin', 'Metformin', 'Norgestimate']\n",
      "['Norgestimate', 'Metformin', 'Metformin', 'Letrozole', 'Drospirenone', 'Dapagliflozin', 'Canagliflozin', 'Acarbose']\n"
     ]
    }
   ],
   "source": [
    "number_list = [3, 7, 2, 11, 8, 10, 4]\n",
    "# Sorting and Altering original list\n",
    "# low to high\n",
    "number_list.sort()\n",
    "print(number_list)\n",
    "# Sorting and Altering original list\n",
    "# high to low\n",
    "number_list.sort(reverse = True)\n",
    "print(number_list)\n",
    "\n",
    "# Sorting and Altering original list\n",
    "# A-Z\n",
    "all_drugs.sort()\n",
    "print(all_drugs)\n",
    "\n",
    "# Sorting and Altering original list\n",
    "# Z-A\n",
    "all_drugs.sort(reverse = True)\n",
    "print(all_drugs)"
   ]
  },
  {
   "cell_type": "markdown",
   "metadata": {
    "colab_type": "text",
    "id": "LFlwomlgvdva"
   },
   "source": [
    "### Add to the End of List"
   ]
  },
  {
   "cell_type": "code",
   "execution_count": 0,
   "metadata": {
    "colab": {},
    "colab_type": "code",
    "id": "P197ocedvdva",
    "outputId": "3c32e1e9-6a56-4552-cb89-f1232d98e35c"
   },
   "outputs": [
    {
     "name": "stdout",
     "output_type": "stream",
     "text": [
      "['Norgestimate', 'Metformin', 'Metformin', 'Letrozole', 'Drospirenone', 'Dapagliflozin', 'Canagliflozin', 'Acarbose', 'New_Drug']\n"
     ]
    }
   ],
   "source": [
    "all_drugs.append('New_Drug')\n",
    "print(all_drugs)"
   ]
  },
  {
   "cell_type": "markdown",
   "metadata": {
    "colab_type": "text",
    "id": "BDUCPZIwvdvc"
   },
   "source": [
    "### Remove First Occurence of Value in List"
   ]
  },
  {
   "cell_type": "code",
   "execution_count": 0,
   "metadata": {
    "colab": {},
    "colab_type": "code",
    "id": "kcuQqmFevdvd",
    "outputId": "d7251d03-b114-43f9-ff9f-2c570166ef1c"
   },
   "outputs": [
    {
     "name": "stdout",
     "output_type": "stream",
     "text": [
      "['Norgestimate', 'Metformin', 'Letrozole', 'Drospirenone', 'Dapagliflozin', 'Canagliflozin', 'Acarbose', 'New_Drug']\n"
     ]
    }
   ],
   "source": [
    "all_drugs.remove('Metformin')\n",
    "print(all_drugs)"
   ]
  },
  {
   "cell_type": "markdown",
   "metadata": {
    "colab_type": "text",
    "id": "Js5xtoqOvdvf"
   },
   "source": [
    "### Remove Item at the Index you Provide"
   ]
  },
  {
   "cell_type": "code",
   "execution_count": 0,
   "metadata": {
    "colab": {},
    "colab_type": "code",
    "id": "dtnNZ7Kevdvf",
    "outputId": "9a7cd6b4-aba0-4c6f-ecf5-8231adb901f3"
   },
   "outputs": [
    {
     "name": "stdout",
     "output_type": "stream",
     "text": [
      "Norgestimate\n",
      "['Metformin', 'Letrozole', 'Drospirenone', 'Dapagliflozin', 'Canagliflozin', 'Acarbose', 'New_Drug']\n"
     ]
    }
   ],
   "source": [
    "# Remove item at the index\n",
    "# this function will also return the item you removed from the list\n",
    "# Default is the last index\n",
    "print(all_drugs.pop(0))\n",
    "print(all_drugs)"
   ]
  },
  {
   "cell_type": "markdown",
   "metadata": {
    "colab_type": "text",
    "id": "ZEMZ7Dmqvdvh"
   },
   "source": [
    "### Minimum, Maximum, Length, and Sum of a list\n"
   ]
  },
  {
   "cell_type": "code",
   "execution_count": 0,
   "metadata": {
    "colab": {},
    "colab_type": "code",
    "id": "GzgETGNNvdvh",
    "outputId": "25dd205c-043d-455e-a4ad-5181944330e1"
   },
   "outputs": [
    {
     "name": "stdout",
     "output_type": "stream",
     "text": [
      "2 11 7 45\n"
     ]
    }
   ],
   "source": [
    "# for list containing numbers only\n",
    "number_list = [3, 7, 2, 11, 8, 10, 4]\n",
    "print(min(number_list), max(number_list), len(number_list), sum(number_list))"
   ]
  },
  {
   "cell_type": "code",
   "execution_count": 0,
   "metadata": {
    "colab": {},
    "colab_type": "code",
    "id": "ct4hTbF2vdvj"
   },
   "outputs": [],
   "source": []
  },
  {
   "cell_type": "code",
   "execution_count": 0,
   "metadata": {
    "colab": {},
    "colab_type": "code",
    "id": "UBuovsMqvdvl",
    "outputId": "4e1f670b-df0d-4c65-d005-0156970675d3"
   },
   "outputs": [
    {
     "name": "stdout",
     "output_type": "stream",
     "text": [
      "[1, 2, 3, 4]\n",
      "(1, 2, 3, 4)\n",
      "<class 'list'>\n",
      "<class 'tuple'>\n"
     ]
    }
   ],
   "source": [
    "list_of_numbers = [1,2,3,4]\n",
    "tuple_of_numbers = (1,2,3,4)\n",
    "\n",
    "print(list_of_numbers)\n",
    "print(tuple_of_numbers)\n",
    "print(type(list_of_numbers))\n",
    "print(type(tuple_of_numbers))"
   ]
  },
  {
   "cell_type": "code",
   "execution_count": 0,
   "metadata": {
    "colab": {},
    "colab_type": "code",
    "id": "tNELiNlfvdvn",
    "outputId": "d0efe716-aaec-448a-de44-36869c6d3392"
   },
   "outputs": [
    {
     "name": "stdout",
     "output_type": "stream",
     "text": [
      "[1, 2, 5, 4]\n"
     ]
    },
    {
     "ename": "TypeError",
     "evalue": "'tuple' object does not support item assignment",
     "output_type": "error",
     "traceback": [
      "\u001b[1;31m---------------------------------------------------------------------------\u001b[0m",
      "\u001b[1;31mTypeError\u001b[0m                                 Traceback (most recent call last)",
      "\u001b[1;32m<ipython-input-175-c46bde4c191e>\u001b[0m in \u001b[0;36m<module>\u001b[1;34m\u001b[0m\n\u001b[0;32m      3\u001b[0m \u001b[0mprint\u001b[0m\u001b[1;33m(\u001b[0m\u001b[0mlist_num\u001b[0m\u001b[1;33m)\u001b[0m\u001b[1;33m\u001b[0m\u001b[0m\n\u001b[0;32m      4\u001b[0m \u001b[1;33m\u001b[0m\u001b[0m\n\u001b[1;32m----> 5\u001b[1;33m \u001b[0mtuple_of_numbers\u001b[0m\u001b[1;33m[\u001b[0m\u001b[1;36m2\u001b[0m\u001b[1;33m]\u001b[0m \u001b[1;33m=\u001b[0m \u001b[1;36m5\u001b[0m\u001b[1;33m\u001b[0m\u001b[0m\n\u001b[0m",
      "\u001b[1;31mTypeError\u001b[0m: 'tuple' object does not support item assignment"
     ]
    }
   ],
   "source": [
    "# Mutable List vs Immutable Tuples\n",
    "list_of_numbers[2] = 5\n",
    "print(list_num)\n",
    "\n",
    "tuple_of_numbers[2] = 5"
   ]
  },
  {
   "cell_type": "markdown",
   "metadata": {
    "colab_type": "text",
    "id": "J3FqUKHKvdvp"
   },
   "source": [
    "## Dictionary"
   ]
  },
  {
   "cell_type": "code",
   "execution_count": 0,
   "metadata": {
    "colab": {},
    "colab_type": "code",
    "id": "dFTvgJTyvdvp",
    "outputId": "e68b5841-9d58-4025-e001-4730958497f9"
   },
   "outputs": [
    {
     "name": "stdout",
     "output_type": "stream",
     "text": [
      "{'Uniprot_ID': 'P22103', 'Name': 'Pneumadin', 'seq': 'AGEPKLDAGV', 'seq_length': 10}\n",
      "<class 'dict'>\n"
     ]
    }
   ],
   "source": [
    "protein = {}\n",
    "protein = {'Uniprot_ID':'P22103','Name':'Pneumadin','seq':'AGEPKLDAGV','seq_length':10}\n",
    "print(protein)\n",
    "print(type(protein))"
   ]
  },
  {
   "cell_type": "code",
   "execution_count": 0,
   "metadata": {
    "colab": {},
    "colab_type": "code",
    "id": "OA7cxuIxvdvr",
    "outputId": "b2643ae2-9995-4605-d0a0-6a746c1cc1bf"
   },
   "outputs": [
    {
     "name": "stdout",
     "output_type": "stream",
     "text": [
      "Pneumadin\n",
      "AGEPKLDAGV\n",
      "Pneumadin\n"
     ]
    },
    {
     "ename": "KeyError",
     "evalue": "'structure'",
     "output_type": "error",
     "traceback": [
      "\u001b[1;31m---------------------------------------------------------------------------\u001b[0m",
      "\u001b[1;31mKeyError\u001b[0m                                  Traceback (most recent call last)",
      "\u001b[1;32m<ipython-input-93-0623c5b5d512>\u001b[0m in \u001b[0;36m<module>\u001b[1;34m\u001b[0m\n\u001b[0;32m      3\u001b[0m \u001b[0mprint\u001b[0m\u001b[1;33m(\u001b[0m\u001b[0mprotein\u001b[0m\u001b[1;33m[\u001b[0m\u001b[1;34m'seq'\u001b[0m\u001b[1;33m]\u001b[0m\u001b[1;33m)\u001b[0m \u001b[1;31m# AGEPKLDAGV\u001b[0m\u001b[1;33m\u001b[0m\u001b[0m\n\u001b[0;32m      4\u001b[0m \u001b[0mprint\u001b[0m\u001b[1;33m(\u001b[0m\u001b[0mprotein\u001b[0m\u001b[1;33m.\u001b[0m\u001b[0mget\u001b[0m\u001b[1;33m(\u001b[0m\u001b[1;34m'Name'\u001b[0m\u001b[1;33m)\u001b[0m\u001b[1;33m)\u001b[0m\u001b[1;33m\u001b[0m\u001b[0m\n\u001b[1;32m----> 5\u001b[1;33m \u001b[0mprint\u001b[0m\u001b[1;33m(\u001b[0m\u001b[0mprotein\u001b[0m\u001b[1;33m[\u001b[0m\u001b[1;34m'structure'\u001b[0m\u001b[1;33m]\u001b[0m\u001b[1;33m)\u001b[0m \u001b[1;31m# KeyError\u001b[0m\u001b[1;33m\u001b[0m\u001b[0m\n\u001b[0m",
      "\u001b[1;31mKeyError\u001b[0m: 'structure'"
     ]
    }
   ],
   "source": [
    "# Accessing the elements in a dictionary\n",
    "print(protein['Name']) # Pneumadin\n",
    "print(protein['seq']) # AGEPKLDAGV\n",
    "print(protein.get('Name'))\n",
    "print(protein['structure']) # KeyError"
   ]
  },
  {
   "cell_type": "markdown",
   "metadata": {
    "colab_type": "text",
    "id": "lQhvozzNvdvt"
   },
   "source": [
    "### Dictionary inside dictionary"
   ]
  },
  {
   "cell_type": "code",
   "execution_count": 0,
   "metadata": {
    "colab": {},
    "colab_type": "code",
    "id": "9U4G6LMNvdvu",
    "outputId": "6c246248-1ca0-477d-b60d-5120ffbed009"
   },
   "outputs": [
    {
     "name": "stdout",
     "output_type": "stream",
     "text": [
      "{'Uniprot_ID': 'P02729', 'Name': 'Urine glycopeptide'}\n",
      "---------\n",
      "Urine glycopeptide\n"
     ]
    }
   ],
   "source": [
    "# syntax dict = {key1:{},key2:{}}\n",
    "proteins = {'Protein1':{'Uniprot_ID':'P22103','Name':'Pneumadin'},\n",
    "            'Protein2':{'Uniprot_ID':'P02729','Name':'Urine glycopeptide'}}\n",
    "\n",
    "#Grab protein2\n",
    "print(proteins['Protein2'])\n",
    "print('---------')\n",
    "# Grab Proten2 Name\n",
    "print(proteins['Protein2']['Name'])"
   ]
  },
  {
   "cell_type": "code",
   "execution_count": 0,
   "metadata": {
    "colab": {},
    "colab_type": "code",
    "id": "I6LoT5CFvdvv",
    "outputId": "1668ccff-30f2-453a-e76b-fdf1b561dd1a"
   },
   "outputs": [
    {
     "name": "stdout",
     "output_type": "stream",
     "text": [
      "Before:  {'Uniprot_ID': 'P22103', 'Name': 'Pneumadin', 'seq': 'AGEPKLDAGV', 'seq_length': 10}\n",
      "After:  {'Uniprot_ID': 'P22103', 'Name': 'New_name', 'seq': 'AGEPKLDAGV', 'seq_length': 10}\n"
     ]
    }
   ],
   "source": [
    "#Add or Update Dictionary Items\n",
    "protein = {'Uniprot_ID':'P22103','Name':'Pneumadin','seq':'AGEPKLDAGV','seq_length':10}\n",
    "print('Before: ',protein)\n",
    "protein['Name']='New_name'\n",
    "print('After: ',protein)"
   ]
  },
  {
   "cell_type": "code",
   "execution_count": 0,
   "metadata": {
    "colab": {},
    "colab_type": "code",
    "id": "FP2tiEqDvdvx",
    "outputId": "8576b9b0-7545-4824-935d-47b96fbdbe6c"
   },
   "outputs": [
    {
     "name": "stdout",
     "output_type": "stream",
     "text": [
      "{'Name': 'Pneumadin', 'seq': 'AGEPKLDAGV', 'seq_length': 10}\n",
      "---------\n",
      "{'Name': 'Pneumadin', 'seq': 'AGEPKLDAGV'}\n",
      "---------\n",
      "{}\n"
     ]
    }
   ],
   "source": [
    "# Removing the elements from a dictionary\n",
    "protein = {'Uniprot_ID':'P22103','Name':'Pneumadin','seq':'AGEPKLDAGV','seq_length':10}\n",
    "# Deleting an element\n",
    "del protein['Uniprot_ID']\n",
    "print(protein)\n",
    "print('---------')\n",
    "# Popping an item\n",
    "protein.pop('seq_length')\n",
    "print(protein)\n",
    "print('---------')\n",
    "\n",
    "# Clearing the entire dictionary\n",
    "protein.clear()\n",
    "print(protein)"
   ]
  },
  {
   "cell_type": "code",
   "execution_count": 0,
   "metadata": {
    "colab": {},
    "colab_type": "code",
    "id": "-IUMFwwOvdvz",
    "outputId": "1388e099-f611-427e-d8ab-2bbfca69d825"
   },
   "outputs": [
    {
     "name": "stdout",
     "output_type": "stream",
     "text": [
      "{'Uniprot_ID': 'P22103', 'Name': 'Pneumadin', 'seq': 'AGEPKLDAGV', 'seq_length': 10}\n",
      "---------\n",
      "{'Uniprot_ID': 'P22103', 'Name': 'Pneumadin', 'seq': 'AGEPKLDAGV', 'seq_length': 10}\n"
     ]
    }
   ],
   "source": [
    "#copying a dictionary\n",
    "protein = {'Uniprot_ID':'P22103','Name':'Pneumadin','seq':'AGEPKLDAGV','seq_length':10}\n",
    "same_protein = protein.copy() # Coping to new variable\n",
    "print(protein)\n",
    "print('---------')\n",
    "print(same_protein)"
   ]
  },
  {
   "cell_type": "code",
   "execution_count": 0,
   "metadata": {
    "colab": {},
    "colab_type": "code",
    "id": "ZkI8qe8pvdv0",
    "outputId": "02710d76-313b-48fe-b1e4-8e6524a1a22b"
   },
   "outputs": [
    {
     "name": "stdout",
     "output_type": "stream",
     "text": [
      "dict_keys(['Uniprot_ID', 'Name', 'seq', 'seq_length'])\n",
      "-----------\n",
      "dict_values(['P22103', 'Pneumadin', 'AGEPKLDAGV', 10])\n"
     ]
    }
   ],
   "source": [
    "# Dictionary Keys and values\n",
    "print(protein.keys()) #keys\n",
    "print('-----------')\n",
    "print(protein.values()) #values"
   ]
  },
  {
   "cell_type": "markdown",
   "metadata": {
    "colab_type": "text",
    "id": "TbNHADPivdv2"
   },
   "source": [
    "## Conditions"
   ]
  },
  {
   "cell_type": "markdown",
   "metadata": {
    "colab_type": "text",
    "id": "FPxs3wWCvdv2"
   },
   "source": [
    "### Booleans"
   ]
  },
  {
   "cell_type": "code",
   "execution_count": 0,
   "metadata": {
    "colab": {},
    "colab_type": "code",
    "id": "6x6IdOzQvdv2",
    "outputId": "e2886462-7ebb-4007-b339-6dccc61e028c"
   },
   "outputs": [
    {
     "name": "stdout",
     "output_type": "stream",
     "text": [
      "True\n",
      "False\n",
      "True\n",
      "False\n",
      "True\n",
      "False\n",
      "True\n"
     ]
    }
   ],
   "source": [
    "#Booleans expressions and comparision\n",
    "# Comparing integers\n",
    "print(100==100) \n",
    "print(100==101)\n",
    "print(200>100)\n",
    "print(200<100)\n",
    "# Comparing strings\n",
    "print('hello'=='hello')\n",
    "print('hello'=='hey')\n",
    "print('hello'!='hey')"
   ]
  },
  {
   "cell_type": "code",
   "execution_count": 0,
   "metadata": {
    "colab": {},
    "colab_type": "code",
    "id": "7bSEQ0Qdvdv4",
    "outputId": "fd9e8f51-dcff-4891-d94d-64e31e2e5a9f"
   },
   "outputs": [
    {
     "name": "stdout",
     "output_type": "stream",
     "text": [
      "<class 'bool'>\n",
      "<class 'bool'>\n",
      "<class 'bool'>\n",
      "<class 'bool'>\n"
     ]
    }
   ],
   "source": [
    "# True and False are not strings, they are bools\n",
    "print(type(100==100))\n",
    "print(type(100==101))\n",
    "print(type(True))\n",
    "print(type(False))"
   ]
  },
  {
   "cell_type": "markdown",
   "metadata": {
    "colab_type": "text",
    "id": "54MdGy_tvdv6"
   },
   "source": [
    "## Logical operators"
   ]
  },
  {
   "cell_type": "code",
   "execution_count": 0,
   "metadata": {
    "colab": {},
    "colab_type": "code",
    "id": "71rdjpgKvdv6",
    "outputId": "01c32b91-870b-4698-ee8e-71333301c0c5"
   },
   "outputs": [
    {
     "name": "stdout",
     "output_type": "stream",
     "text": [
      "True\n",
      "False\n",
      "True\n",
      "True\n",
      "False\n"
     ]
    }
   ],
   "source": [
    "#and, or, not\n",
    "print(5>4 and 4>3)\n",
    "print(True and False)\n",
    "print(True and True)\n",
    "print(False or True)\n",
    "print(not True)"
   ]
  },
  {
   "cell_type": "markdown",
   "metadata": {
    "colab_type": "text",
    "id": "hlge_H1tvdv8"
   },
   "source": [
    "\n",
    "\n",
    "<p class=\"gq gr ap by gt b gu gv gw gx gy gz ha hb hc hd he ee\" data-selectable-paragraph=\"\" style='box-sizing: inherit; user-select: auto !important; margin: 2em 0px -0.46em; font-weight: 400; color: rgba(0, 0, 0, 0.84); font-style: normal; word-break: break-word; line-height: 1.58; letter-spacing: -0.004em; font-family: medium-content-serif-font, Georgia, Cambria, \"Times New Roman\", Times, serif; font-size: 21px; font-variant-ligatures: normal; font-variant-caps: normal; orphans: 2; text-align: start; text-indent: 0px; text-transform: none; white-space: normal; widows: 2; word-spacing: 0px; -webkit-text-stroke-width: 0px; background-color: rgb(255, 255, 255); text-decoration-style: initial; text-decoration-color: initial;'><span style=\"font-family: Arial, Helvetica, sans-serif; font-size: 16px;\">Python supports the usual logical conditions from mathematics:</span></p>\n",
    "<ul>\n",
    "    <li style=\"line-height: 1;\">Equals: a == b</li>\n",
    "    <li style=\"line-height: 1;\">Not Equals: a != b</li>\n",
    "    <li style=\"line-height: 1;\">Less than: a &lt; b</li>\n",
    "    <li style=\"line-height: 1;\">Less than or equal to: a &lt;= b</li>\n",
    "    <li style=\"line-height: 1;\">Greater than: a &gt; b</li>\n",
    "    <li style=\"line-height: 1;\">Greater than or equal to: a &gt;= b</li>\n",
    "</ul>\n",
    "\n",
    "## Syntax of conditional statements\n",
    "\n",
    "<p><img src=\"data:image/png;base64,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\"></p>"
   ]
  },
  {
   "cell_type": "code",
   "execution_count": 0,
   "metadata": {
    "colab": {},
    "colab_type": "code",
    "id": "9k77y6rXvdv9",
    "outputId": "11a7db21-ce45-477c-c909-b3f17aa55f22"
   },
   "outputs": [
    {
     "name": "stdout",
     "output_type": "stream",
     "text": [
      "Gene is upregulated\n"
     ]
    }
   ],
   "source": [
    "\n",
    "#if condition:\n",
    "#    Statements to execute if condition if true\n",
    "#    Statements to execute if condition if true\n",
    " \n",
    "control_expression = 2.6\n",
    "treated_expression = 3.5\n",
    "if control_expression < treated_expression:\n",
    "    print('Gene is upregulated')\n",
    "\n",
    "\n",
    "    "
   ]
  },
  {
   "cell_type": "code",
   "execution_count": 0,
   "metadata": {
    "colab": {},
    "colab_type": "code",
    "id": "w3xU8YCPvdwA",
    "outputId": "1988f92e-ee03-4625-9771-69e6e2808f0f"
   },
   "outputs": [
    {
     "name": "stdout",
     "output_type": "stream",
     "text": [
      "Gene is upregulated\n"
     ]
    }
   ],
   "source": [
    "#if (condition):\n",
    "    # Executes this block if\n",
    "    # condition is true\n",
    "#else:\n",
    "    # Executes this block if\n",
    "    # condition is false\n",
    "    \n",
    "control_expression = 2.6\n",
    "treated_expression = 3.5\n",
    "if control_expression > treated_expression:\n",
    "    print('Gene is downregulated')\n",
    "else:\n",
    "    print('Gene is upregulated')"
   ]
  },
  {
   "cell_type": "code",
   "execution_count": 0,
   "metadata": {
    "colab": {},
    "colab_type": "code",
    "id": "kOQLIMUHvdwD",
    "outputId": "6dec7c20-802b-4bd5-f27f-70db08b2e6ab"
   },
   "outputs": [
    {
     "name": "stdout",
     "output_type": "stream",
     "text": [
      "Gene2 is longer than Gene1\n",
      "Gene2 is longest among the 3 Genes\n"
     ]
    }
   ],
   "source": [
    "#if (condition1):\n",
    "   # Executes when condition1 is true\n",
    "#   if (condition2): \n",
    "      # Executes when condition2 is true\n",
    "   # if Block is end here\n",
    "# if Block is end here\n",
    "gene1_length = 2.6\n",
    "gene2_length = 3.5\n",
    "gene3_length = 2.8\n",
    "\n",
    "if gene1_length < gene2_length:\n",
    "    print('Gene2 is longer than Gene1' )\n",
    "    if gene3_length <gene2_length:\n",
    "        print('Gene2 is longest among the 3 Genes')\n",
    "        \n"
   ]
  },
  {
   "cell_type": "code",
   "execution_count": 0,
   "metadata": {
    "colab": {},
    "colab_type": "code",
    "id": "cGZwTo7rvdwE",
    "outputId": "ff3d1b15-83af-477d-d70d-2656e2422e79"
   },
   "outputs": [
    {
     "name": "stdout",
     "output_type": "stream",
     "text": [
      "Metformin is used for treating diabeties\n"
     ]
    }
   ],
   "source": [
    "#Check If Item Present in a Sequence\n",
    "diabetes_drug =  ['Metformin', 'Acarbose', 'Canagliflozin','Dapagliflozin']\n",
    "if 'Metformin' in diabetes_drug:\n",
    "    print('Metformin is used for treating diabetes')\n",
    "else:\n",
    "    print('Metformin cannot be use for treating diabetes')\n"
   ]
  },
  {
   "cell_type": "markdown",
   "metadata": {
    "colab_type": "text",
    "id": "M0J_zxN2vdwF"
   },
   "source": [
    "## LOOPs in python"
   ]
  },
  {
   "cell_type": "code",
   "execution_count": 3,
   "metadata": {
    "colab": {},
    "colab_type": "code",
    "id": "hmVtMTYhvdwG",
    "outputId": "92d386d7-36d7-4257-8b68-ae53234b6fb0"
   },
   "outputs": [
    {
     "name": "stdout",
     "output_type": "stream",
     "text": [
      "enter a number : 5\n",
      "5\n",
      "enter another number : 10\n"
     ]
    }
   ],
   "source": [
    "# Simple while loop\n",
    "a = int(input(\"enter a number : \"))\n",
    "while a<6:\n",
    "    print(a)\n",
    "    a = int(input(\"enter another number : \"))"
   ]
  },
  {
   "cell_type": "code",
   "execution_count": 0,
   "metadata": {
    "colab": {},
    "colab_type": "code",
    "id": "83MLEyMKvdwH",
    "outputId": "8926f25e-5fad-44a5-de54-cc7eec93d159"
   },
   "outputs": [
    {
     "name": "stdout",
     "output_type": "stream",
     "text": [
      "10 TTTCCGGCTA\n"
     ]
    }
   ],
   "source": [
    "# While loop\n",
    "dna_list = ['AGGGC','ATTGGCCTT','AGGTTCC','GGCCTCA','TTTCCGGCTA','CCGCGTA']\n",
    "\n",
    "#initiating variable to store longest length\n",
    "longest = 0\n",
    "#variable to store index of list\n",
    "index=0\n",
    "\n",
    "total_data=len(dna_list)\n",
    "\n",
    "while (index<total_data):\n",
    "    current=len(dna_list[index]) #length of current DNA\n",
    "    \n",
    "    if current > longest: #comparing the lenght of current DNA with longest DNA\n",
    "        longest=current  # Storing the lenght of longest DNA\n",
    "        longest_dna = dna_list[index] # Storing the longest DNA\n",
    "    index=index+1\n",
    "\n",
    "\n",
    "print(longest,longest_dna)"
   ]
  },
  {
   "cell_type": "code",
   "execution_count": 0,
   "metadata": {
    "colab": {},
    "colab_type": "code",
    "id": "Dbld0FWovdwI",
    "outputId": "4906c596-e23c-44c8-ef26-7c5e681ca8ed"
   },
   "outputs": [
    {
     "name": "stdout",
     "output_type": "stream",
     "text": [
      "0\n",
      "1\n",
      "2\n",
      "3\n",
      "4\n"
     ]
    }
   ],
   "source": [
    "# range function\n",
    "for i in range(5):\n",
    "    print(i)\n"
   ]
  },
  {
   "cell_type": "code",
   "execution_count": 0,
   "metadata": {
    "colab": {},
    "colab_type": "code",
    "id": "VhHXHZxUvdwK",
    "outputId": "2cc93882-eb9b-442a-8728-fac865b60061"
   },
   "outputs": [
    {
     "name": "stdout",
     "output_type": "stream",
     "text": [
      "I love biology\n",
      "I love biology\n",
      "I love biology\n"
     ]
    }
   ],
   "source": [
    "for i in range(3):\n",
    "    print('I love biology')"
   ]
  },
  {
   "cell_type": "code",
   "execution_count": 0,
   "metadata": {
    "colab": {},
    "colab_type": "code",
    "id": "NTDMtbdtvdwL",
    "outputId": "50ceea15-e8c3-4acb-ad92-36323c069dd2"
   },
   "outputs": [
    {
     "name": "stdout",
     "output_type": "stream",
     "text": [
      "6\n",
      "7\n",
      "8\n",
      "9\n"
     ]
    }
   ],
   "source": [
    "for i in range(6,10):\n",
    "    print(i)"
   ]
  },
  {
   "cell_type": "code",
   "execution_count": 0,
   "metadata": {
    "colab": {},
    "colab_type": "code",
    "id": "7khPa35FvdwN",
    "outputId": "ed4cf9e8-141b-4c79-e96e-cecc7240c4d8"
   },
   "outputs": [
    {
     "name": "stdout",
     "output_type": "stream",
     "text": [
      "Metformin\n",
      "Acarbose\n",
      "Canagliflozin\n",
      "Dapagliflozin\n"
     ]
    }
   ],
   "source": [
    "drug_name = ['Metformin', 'Acarbose', 'Canagliflozin','Dapagliflozin']\n",
    "for drug in drug_name:\n",
    "    print(drug)"
   ]
  },
  {
   "cell_type": "code",
   "execution_count": 0,
   "metadata": {
    "colab": {},
    "colab_type": "code",
    "id": "CPQtj7vovdwO",
    "outputId": "c8e895cf-545d-4960-d95b-c10cc9c70f3b"
   },
   "outputs": [
    {
     "name": "stdout",
     "output_type": "stream",
     "text": [
      "Metformin\n",
      "Acarbose\n",
      "Canagliflozin\n",
      "Dapagliflozin\n"
     ]
    }
   ],
   "source": [
    "drug_name = ['Metformin', 'Acarbose', 'Canagliflozin','Dapagliflozin']\n",
    "for temp in drug_name:\n",
    "    print(temp)"
   ]
  },
  {
   "cell_type": "code",
   "execution_count": 0,
   "metadata": {
    "colab": {},
    "colab_type": "code",
    "id": "Qxdx89-tvdwP",
    "outputId": "8c1e5c71-0f59-4610-a8d8-83772330e50d"
   },
   "outputs": [
    {
     "name": "stdout",
     "output_type": "stream",
     "text": [
      "Metformin\n",
      "Acarbose\n",
      "Canagliflozin\n"
     ]
    }
   ],
   "source": [
    "# Braking a loop before its end\n",
    "for temp in drug_name:\n",
    "    print(temp)\n",
    "    if temp == 'Canagliflozin':\n",
    "        break"
   ]
  },
  {
   "cell_type": "markdown",
   "metadata": {
    "colab_type": "text",
    "id": "3XchC-KrvdwQ"
   },
   "source": [
    "## Functions"
   ]
  },
  {
   "cell_type": "code",
   "execution_count": 0,
   "metadata": {
    "colab": {},
    "colab_type": "code",
    "id": "91RMgCXevdwQ",
    "outputId": "7b27ae38-482b-4feb-c0eb-cd1e273f0be3"
   },
   "outputs": [
    {
     "name": "stdout",
     "output_type": "stream",
     "text": [
      "I love Biology..!\n"
     ]
    }
   ],
   "source": [
    "def BioLove():\n",
    "    print('I love Biology..!')\n",
    "\n",
    "BioLove()"
   ]
  },
  {
   "cell_type": "code",
   "execution_count": 0,
   "metadata": {
    "colab": {},
    "colab_type": "code",
    "id": "AmAyEIcJvdwS",
    "outputId": "fd9cc932-393f-4d4e-d659-f9e55aaddb9a"
   },
   "outputs": [
    {
     "name": "stdout",
     "output_type": "stream",
     "text": [
      "Metformin is a Drug\n"
     ]
    }
   ],
   "source": [
    "#Functions with arguments\n",
    "#Pass one arguments\n",
    "def Drug(compound):\n",
    "    print(compound,'is a Drug')\n",
    "    \n",
    "Drug('Metformin')"
   ]
  },
  {
   "cell_type": "code",
   "execution_count": 0,
   "metadata": {
    "colab": {},
    "colab_type": "code",
    "id": "d2XkMrumvdwT",
    "outputId": "56c512e6-4179-42a5-a7a5-0d551148ea7f"
   },
   "outputs": [
    {
     "name": "stdout",
     "output_type": "stream",
     "text": [
      "Metformin is used for treatment of type 2 diabetes\n"
     ]
    }
   ],
   "source": [
    "\n",
    "#Pass two arguments\n",
    "def DrugDisease(Drug,Disease):\n",
    "    print(Drug,'is used for treatment of',Disease)\n",
    "\n",
    "DrugDisease('Metformin','type 2 diabetes')"
   ]
  },
  {
   "cell_type": "markdown",
   "metadata": {
    "colab_type": "text",
    "id": "hynC3gW5vdwU"
   },
   "source": [
    "### Types of Arguments\n",
    "<ul style='box-sizing: inherit; user-select: auto !important; padding: 0px 0px 0px 30px; margin: 0px 0px 1.5em; list-style: disc; color: rgb(67, 65, 78); font-family: Roboto, \"Helvetica Neue\", helvetica, arial, sans-serif; font-size: 17px; font-style: normal; font-variant-ligatures: normal; font-variant-caps: normal; font-weight: 400; letter-spacing: normal; orphans: 2; text-align: start; text-indent: 0px; text-transform: none; white-space: normal; widows: 2; word-spacing: 0px; -webkit-text-stroke-width: 0px; background-color: rgb(255, 255, 255); text-decoration-style: initial; text-decoration-color: initial;'>\n",
    "    <li style=\"box-sizing: inherit; user-select: auto !important; line-height: 1.5em; margin-top: 0.8em; margin-bottom: 0.8em; font-size: inherit;\"><span style=\"font-family: \n",
    "        Arial, Helvetica, sans-serif;\">Positional Arguments</span></li>\n",
    "    <li style=\"box-sizing: inherit; user-select: auto !important; line-height: 1.5em; margin-top: 0.8em; margin-bottom: 0.8em; font-size: inherit;\"><span style=\"font-family: \n",
    "        Arial, Helvetica, sans-serif;\">Keyword Arguments</span></li>\n",
    "    <li style=\"box-sizing: inherit; user-select: auto !important; line-height: 1.5em; margin-top: 0.8em; margin-bottom: 0.8em; font-size: inherit;\"><span style=\"font-family: \n",
    "        Arial, Helvetica, sans-serif;\">Default Arguments</span></li>\n",
    "    <li style=\"box-sizing: inherit; user-select: auto !important; line-height: 1.5em; margin-top: 0.8em; margin-bottom: 0.8em; font-size: inherit;\"><span style=\"font-family: \n",
    "        Arial, Helvetica, sans-serif;\">Variable Length Positional Arguments (*args)</span></li>\n",
    "    <li style=\"box-sizing: inherit; user-select: auto !important; line-height: 1.5em; margin-top: 0.8em; margin-bottom: 0.8em; font-size: inherit;\"><span style=\"font-family: \n",
    "        Arial, Helvetica, sans-serif;\">Variable Length Keyword Arguments (**kwargs)</span></li>\n",
    "</ul>"
   ]
  },
  {
   "cell_type": "code",
   "execution_count": 0,
   "metadata": {
    "colab": {},
    "colab_type": "code",
    "id": "UgQPIK90vdwU",
    "outputId": "e5101e58-574e-4449-b3ef-8103a5c459de"
   },
   "outputs": [
    {
     "name": "stdout",
     "output_type": "stream",
     "text": [
      "Metformin is used for Treatment of type 2 diabetes\n"
     ]
    }
   ],
   "source": [
    "#Positional Arugumnets\n",
    "def DrugDisease(Drug,Disease):\n",
    "    print(Drug,'is used for Treatment of',Disease)\n",
    "\n",
    "DrugDisease('Metformin','type 2 diabetes')"
   ]
  },
  {
   "cell_type": "code",
   "execution_count": 0,
   "metadata": {
    "colab": {},
    "colab_type": "code",
    "id": "fLC00YqIvdwV",
    "outputId": "09885ce8-a3f6-4ce5-f2a6-49eb4f66786f"
   },
   "outputs": [
    {
     "name": "stdout",
     "output_type": "stream",
     "text": [
      "Metformin is used for Treatment of type 2 diabetes\n",
      "Metformin is used for Treatment of type 2 diabetes\n"
     ]
    }
   ],
   "source": [
    "#Keyword Arguments\n",
    "def DrugDisease(Drug,Disease):\n",
    "    print(Drug,'is used for Treatment of',Disease)\n",
    "\n",
    "DrugDisease(Drug='Metformin',Disease = 'type 2 diabetes')\n",
    "DrugDisease(Disease = 'type 2 diabetes',Drug='Metformin')\n"
   ]
  },
  {
   "cell_type": "code",
   "execution_count": 0,
   "metadata": {
    "colab": {},
    "colab_type": "code",
    "id": "j4fUkeRfvdwb",
    "outputId": "f9905d87-4aee-40bf-ef92-a5e26b1c0630"
   },
   "outputs": [
    {
     "name": "stdout",
     "output_type": "stream",
     "text": [
      "Metformin is used for treatment of PCOS\n",
      "Metformin is used for treatment of type 2 diabetes\n"
     ]
    }
   ],
   "source": [
    "#Default Arguments\n",
    "def DrugDisease(Drug,Disease='type 2 diabetes'):\n",
    "    print(Drug,'is used for treatment of',Disease)\n",
    "    \n",
    "DrugDisease('Metformin','PCOS')\n",
    "DrugDisease('Metformin')"
   ]
  },
  {
   "cell_type": "code",
   "execution_count": 0,
   "metadata": {
    "colab": {},
    "colab_type": "code",
    "id": "sDB7nrD0vdwc",
    "outputId": "fa064339-2726-4abe-bd9b-dd7b491dcda1"
   },
   "outputs": [
    {
     "name": "stdout",
     "output_type": "stream",
     "text": [
      "('Metformin', 'Acarbose', 'Canagliflozin', 'Dapagliflozin', 0.2, 6, 8, False)\n"
     ]
    }
   ],
   "source": [
    "def print_all(*args):\n",
    "    print(args)\n",
    "    \n",
    "print_all('Metformin', 'Acarbose', 'Canagliflozin','Dapagliflozin',0.2,6,8,False)"
   ]
  },
  {
   "cell_type": "code",
   "execution_count": 0,
   "metadata": {
    "colab": {},
    "colab_type": "code",
    "id": "oBuCO94xvdwe",
    "outputId": "4ff5fc7e-4a7a-4431-b579-2ea72bce485c"
   },
   "outputs": [
    {
     "name": "stdout",
     "output_type": "stream",
     "text": [
      "{'Drug': 'Metformin', 'Disease': 'type 2 diabetes', 'Type': 'Small Molecule'}\n"
     ]
    }
   ],
   "source": [
    "def print_all(**kwargs):\n",
    "    print(kwargs)\n",
    "    \n",
    "print_all(Drug='Metformin',Disease = 'type 2 diabetes',Type= 'Small Molecule')"
   ]
  },
  {
   "cell_type": "code",
   "execution_count": 0,
   "metadata": {
    "colab": {},
    "colab_type": "code",
    "id": "91X2-J2Bvdwf",
    "outputId": "88b607bb-84d5-4f47-9604-66884a2a8fc1"
   },
   "outputs": [
    {
     "name": "stdout",
     "output_type": "stream",
     "text": [
      "Treated gene is upregulated 1.4666666666666672\n"
     ]
    }
   ],
   "source": [
    "#Return Value\n",
    "\n",
    "def MeanExpression(expressions):\n",
    "    total = sum(expressions)\n",
    "    mean = total/len(expressions)\n",
    "    return mean\n",
    "\n",
    "control = [2.6,3.0,2.5]\n",
    "treated = [4.2,3.8,4.5]\n",
    "control_mean = MeanExpression(control)\n",
    "treated_mean = MeanExpression(treated)\n",
    "if control_mean > treated_mean:\n",
    "    print('Control gene in upregulated',control_mean-treated_mean)\n",
    "else:\n",
    "    print('Treated gene is upregulated',treated_mean-control_mean)"
   ]
  },
  {
   "cell_type": "code",
   "execution_count": 0,
   "metadata": {
    "colab": {},
    "colab_type": "code",
    "id": "8QynCxWavdwg",
    "outputId": "5633ae5d-fa39-41be-eebf-b8a9585952af"
   },
   "outputs": [
    {
     "name": "stdout",
     "output_type": "stream",
     "text": [
      "<class 'int'>\n",
      "6\n",
      "1\n",
      "21\n",
      "12\n",
      "6\n"
     ]
    }
   ],
   "source": [
    "print(type(164) #Returns the object type\n",
    "print(max([1,2,3,4,5,6])) # Returns the max value\n",
    "print(min([1,2,3,4,5,6])) # Returns the min value\n",
    "print(sum([1,2,3,4,5,6])) # Returns the summation value\n",
    "print(len('Data Science')) # Returns the length\n",
    "print(len([1,2,3,4,5,6])) # Returns the length"
   ]
  },
  {
   "cell_type": "markdown",
   "metadata": {
    "colab_type": "text",
    "id": "8y_BZAqPvdwi"
   },
   "source": [
    "### Modules"
   ]
  },
  {
   "cell_type": "code",
   "execution_count": 0,
   "metadata": {
    "colab": {},
    "colab_type": "code",
    "id": "V2LfAMfevdwi",
    "outputId": "724f9265-50ed-443d-9383-8aebae655a4c",
    "scrolled": true
   },
   "outputs": [
    {
     "name": "stdout",
     "output_type": "stream",
     "text": [
      "0.27870231346739693\n",
      "0.2805973106961117\n",
      "0.0937383041753721\n",
      "0.6539772036257877\n",
      "0.5498212100959129\n",
      "0.37444260731463885\n",
      "0.2640404224799523\n",
      "0.28285124689624186\n",
      "0.4375745161169099\n",
      "0.6735416752516638\n"
     ]
    }
   ],
   "source": [
    "import random\n",
    "for i in range(10):\n",
    "    x = random.random()\n",
    "    print(x)"
   ]
  },
  {
   "cell_type": "code",
   "execution_count": 0,
   "metadata": {
    "colab": {},
    "colab_type": "code",
    "id": "cVf2ZELZvdwj",
    "outputId": "b25a382f-83c4-4cfd-b628-4783806f3790"
   },
   "outputs": [
    {
     "name": "stdout",
     "output_type": "stream",
     "text": [
      "16\n",
      "18\n",
      "Canagliflozin\n"
     ]
    }
   ],
   "source": [
    "\n",
    "print(random.randint(10, 20))\n",
    "print(random.randint(10, 20))\n",
    "drug_name = ['Metformin', 'Acarbose', 'Canagliflozin','Dapagliflozin']\n",
    "print(random.choice(drug_name))\n",
    "\n"
   ]
  },
  {
   "cell_type": "markdown",
   "metadata": {
    "colab_type": "text",
    "id": "Fb6Z8SEivdw0"
   },
   "source": [
    "## Class and objects"
   ]
  },
  {
   "cell_type": "code",
   "execution_count": 0,
   "metadata": {
    "colab": {},
    "colab_type": "code",
    "id": "JHCZ-DfMvdw0"
   },
   "outputs": [],
   "source": []
  },
  {
   "cell_type": "code",
   "execution_count": 0,
   "metadata": {
    "colab": {},
    "colab_type": "code",
    "id": "G7S9Spdwvdw2"
   },
   "outputs": [],
   "source": [
    " class Mrna:\n",
    "    pass"
   ]
  },
  {
   "cell_type": "code",
   "execution_count": 0,
   "metadata": {
    "colab": {},
    "colab_type": "code",
    "id": "DV_ED5dGvdw2"
   },
   "outputs": [],
   "source": [
    "class Mrna:\n",
    "    \n",
    "    # initializer\n",
    "    def __init__(self):\n",
    "        pass"
   ]
  },
  {
   "cell_type": "code",
   "execution_count": 0,
   "metadata": {
    "colab": {},
    "colab_type": "code",
    "id": "D6rfnpdvvdw3"
   },
   "outputs": [],
   "source": [
    "class Mrna:\n",
    "\n",
    "    # initializer with instance attributes\n",
    "    def __init__(self, gene_name, seq):\n",
    "        self.gene_name = gene_name\n",
    "        self.seq = seq"
   ]
  },
  {
   "cell_type": "code",
   "execution_count": 0,
   "metadata": {
    "colab": {},
    "colab_type": "code",
    "id": "i7-CAm6Bvdw4"
   },
   "outputs": [],
   "source": [
    "class Mrna:\n",
    "\n",
    "    # class attribute\n",
    "    contains = 'Nucleice Acid'\n",
    "\n",
    "    # initializer with instance attributes\n",
    "    def __init__(self, gene_name, seq):\n",
    "        self.gene_name = gene_name\n",
    "        self.seq = seq"
   ]
  },
  {
   "cell_type": "code",
   "execution_count": 0,
   "metadata": {
    "colab": {},
    "colab_type": "code",
    "id": "0f8Q5SMbvdw5",
    "outputId": "17d77573-4785-4cc4-845b-ab77e051df8b"
   },
   "outputs": [
    {
     "data": {
      "text/plain": [
       "<__main__.Mrna at 0x20ba300ce80>"
      ]
     },
     "execution_count": 149,
     "metadata": {
      "tags": []
     },
     "output_type": "execute_result"
    }
   ],
   "source": [
    "# Defining a class\n",
    "class Mrna:\n",
    "\n",
    "    # class attribute\n",
    "    contains = 'Nucleice Acid'\n",
    "\n",
    "    # initializer with instance attributes\n",
    "    def __init__(self, gene_name, seq):\n",
    "        self.gene_name = gene_name\n",
    "        self.seq = seq\n",
    "\n",
    "# Creating an object\n",
    "mRNA_1 = Mrna('IGKJ1','GUGGACGUUCGGCCAAGGGACCAAGGUGGAAAUCAAAC')"
   ]
  },
  {
   "cell_type": "code",
   "execution_count": 0,
   "metadata": {
    "colab": {},
    "colab_type": "code",
    "id": "W8V7Hs1wvdw8",
    "outputId": "f9531d0b-4700-4cf0-dca8-f0da697f8f12"
   },
   "outputs": [
    {
     "name": "stdout",
     "output_type": "stream",
     "text": [
      "Gene Name is IGKJ1 and sequence is GUGGACGUUCGGCCAAGGGACCAAGGUGGAAAUCAAAC\n",
      "Its cDNA is GTGGACGTTCGGCCAAGGGACCAAGGTGGAAATCAAAC\n"
     ]
    }
   ],
   "source": [
    "# Instance Methods\n",
    "class Mrna:\n",
    "\n",
    "    # class attribute\n",
    "    contains = 'Nucleice Acid'\n",
    "\n",
    "    # initializer with instance attributes\n",
    "    def __init__(self, gene_name, seq):\n",
    "        self.gene_name = gene_name\n",
    "        self.seq = seq\n",
    "\n",
    "\n",
    "    # method 1\n",
    "    def Details(self):\n",
    "        print(\"Gene Name is\", self.gene_name,'and sequence is', self.seq)\n",
    "\n",
    "    # method 2\n",
    "    def cDNA(self):\n",
    "        print('Its cDNA is', self.seq.replace('U','T'))\n",
    "\n",
    "\n",
    "mRNA_1 = Mrna('IGKJ1','GUGGACGUUCGGCCAAGGGACCAAGGUGGAAAUCAAAC')\n",
    "mRNA_1.Details()\n",
    "mRNA_1.cDNA()"
   ]
  },
  {
   "cell_type": "code",
   "execution_count": 0,
   "metadata": {
    "colab": {},
    "colab_type": "code",
    "id": "7NxcFY4Yvdw-"
   },
   "outputs": [],
   "source": []
  },
  {
   "cell_type": "markdown",
   "metadata": {
    "colab_type": "text",
    "id": "js1awBgYvdwk"
   },
   "source": [
    "## File Handling"
   ]
  },
  {
   "cell_type": "code",
   "execution_count": 0,
   "metadata": {
    "colab": {},
    "colab_type": "code",
    "id": "Clh3kE9Xvdwk"
   },
   "outputs": [],
   "source": [
    "f = open('myfile.txt') # If file is in current directory\n",
    "f = open('C:\\Python33\\Scripts\\myfile.txt') # opening file with Exact Path\n",
    "\n"
   ]
  },
  {
   "cell_type": "markdown",
   "metadata": {
    "colab_type": "text",
    "id": "XFklGamPvdwl"
   },
   "source": [
    "### Specify File Mode\n",
    "\n",
    "<table style=\"width: 56%; border-collapse: collapse; border: none; margin-right: calc(44%);\">\n",
    "    <tbody>\n",
    "        <tr>\n",
    "            <td style=\"width: 28.169%; border: 1pt solid windowtext; padding: 0cm 5.4pt; height: 15.55pt; vertical-align: top;\">\n",
    "                <p style='margin-top:0cm;margin-right:0cm;margin-bottom:.0001pt;margin-left:0cm;line-height:normal;font-size:15px;font-family:\"Calibri\",sans-serif;text-align:center;'><strong>Character</strong></p>\n",
    "            </td>\n",
    "            <td style=\"width: 27.7183%; border-top: 1pt solid windowtext; border-right: 1pt solid windowtext; border-bottom: 1pt solid windowtext; border-image: initial; border-left: none; padding: 0cm 5.4pt; height: 15.55pt; vertical-align: top;\">\n",
    "                <p style='margin-top:0cm;margin-right:0cm;margin-bottom:.0001pt;margin-left:0cm;line-height:normal;font-size:15px;font-family:\"Calibri\",sans-serif;text-align:center;'><strong>Mode</strong></p>\n",
    "            </td>\n",
    "            <td style=\"width: 44.6761%; border-top: 1pt solid windowtext; border-right: 1pt solid windowtext; border-bottom: 1pt solid windowtext; border-image: initial; border-left: none; padding: 0cm 5.4pt; height: 15.55pt; vertical-align: top;\">\n",
    "                <p style='margin-top:0cm;margin-right:0cm;margin-bottom:.0001pt;margin-left:0cm;line-height:normal;font-size:15px;font-family:\"Calibri\",sans-serif;text-align:center;'><strong>Description</strong></p>\n",
    "            </td>\n",
    "        </tr>\n",
    "        <tr>\n",
    "            <td style=\"width: 28.169%; border-right: 1pt solid windowtext; border-bottom: 1pt solid windowtext; border-left: 1pt solid windowtext; border-image: initial; border-top: none; padding: 0cm 5.4pt; height: 15.55pt; vertical-align: top;\">\n",
    "                <p style='margin-top:0cm;margin-right:0cm;margin-bottom:.0001pt;margin-left:0cm;line-height:normal;font-size:15px;font-family:\"Calibri\",sans-serif;text-align:center;'><strong>&lsquo;r&#39;</strong></p>\n",
    "            </td>\n",
    "            <td style=\"width: 27.7183%; border-top: none; border-left: none; border-bottom: 1pt solid windowtext; border-right: 1pt solid windowtext; padding: 0cm 5.4pt; height: 15.55pt; vertical-align: top;\">\n",
    "                <p style='margin-top:0cm;margin-right:0cm;margin-bottom:.0001pt;margin-left:0cm;line-height:normal;font-size:15px;font-family:\"Calibri\",sans-serif;text-align:center;'>Read (default)</p>\n",
    "            </td>\n",
    "            <td style=\"width: 44.6761%; border-top: none; border-left: none; border-bottom: 1pt solid windowtext; border-right: 1pt solid windowtext; padding: 0cm 5.4pt; height: 15.55pt; vertical-align: top;\">\n",
    "                <p style='margin-top:0cm;margin-right:0cm;margin-bottom:.0001pt;margin-left:0cm;line-height:  normal;font-size:15px;font-family:\"Calibri\",sans-serif;'>Open a file for read only</p>\n",
    "            </td>\n",
    "        </tr>\n",
    "        <tr>\n",
    "            <td style=\"width: 28.169%; border-right: 1pt solid windowtext; border-bottom: 1pt solid windowtext; border-left: 1pt solid windowtext; border-image: initial; border-top: none; padding: 0cm 5.4pt; height: 15.55pt; vertical-align: top;\">\n",
    "                <p style='margin-top:0cm;margin-right:0cm;margin-bottom:.0001pt;margin-left:0cm;line-height:normal;font-size:15px;font-family:\"Calibri\",sans-serif;text-align:center;'><strong>&lsquo;w&#39;</strong></p>\n",
    "            </td>\n",
    "            <td style=\"width: 27.7183%; border-top: none; border-left: none; border-bottom: 1pt solid windowtext; border-right: 1pt solid windowtext; padding: 0cm 5.4pt; height: 15.55pt; vertical-align: top;\">\n",
    "                <p style='margin-top:0cm;margin-right:0cm;margin-bottom:.0001pt;margin-left:0cm;line-height:normal;font-size:15px;font-family:\"Calibri\",sans-serif;text-align:center;'>Write</p>\n",
    "            </td>\n",
    "            <td style=\"width: 44.6761%; border-top: none; border-left: none; border-bottom: 1pt solid windowtext; border-right: 1pt solid windowtext; padding: 0cm 5.4pt; height: 15.55pt; vertical-align: top;\">\n",
    "                <p style='margin-top:0cm;margin-right:0cm;margin-bottom:.0001pt;margin-left:0cm;line-height:  normal;font-size:15px;font-family:\"Calibri\",sans-serif;'>Open a file for write only (overwrite)</p>\n",
    "            </td>\n",
    "        </tr>\n",
    "        <tr>\n",
    "            <td style=\"width: 28.169%; border-right: 1pt solid windowtext; border-bottom: 1pt solid windowtext; border-left: 1pt solid windowtext; border-image: initial; border-top: none; padding: 0cm 5.4pt; height: 15.55pt; vertical-align: top;\">\n",
    "                <p style='margin-top:0cm;margin-right:0cm;margin-bottom:.0001pt;margin-left:0cm;line-height:normal;font-size:15px;font-family:\"Calibri\",sans-serif;text-align:center;'><strong>&lsquo;A&#39;</strong></p>\n",
    "            </td>\n",
    "            <td style=\"width: 27.7183%; border-top: none; border-left: none; border-bottom: 1pt solid windowtext; border-right: 1pt solid windowtext; padding: 0cm 5.4pt; height: 15.55pt; vertical-align: top;\">\n",
    "                <p style='margin-top:0cm;margin-right:0cm;margin-bottom:.0001pt;margin-left:0cm;line-height:normal;font-size:15px;font-family:\"Calibri\",sans-serif;text-align:center;'>Append</p>\n",
    "            </td>\n",
    "            <td style=\"width: 44.6761%; border-top: none; border-left: none; border-bottom: 1pt solid windowtext; border-right: 1pt solid windowtext; padding: 0cm 5.4pt; height: 15.55pt; vertical-align: top;\">\n",
    "                <p style='margin-top:0cm;margin-right:0cm;margin-bottom:.0001pt;margin-left:0cm;line-height:  normal;font-size:15px;font-family:\"Calibri\",sans-serif;'>Open a file for write only (append)</p>\n",
    "            </td>\n",
    "        </tr>\n",
    "        <tr>\n",
    "            <td style=\"width: 28.169%; border-right: 1pt solid windowtext; border-bottom: 1pt solid windowtext; border-left: 1pt solid windowtext; border-image: initial; border-top: none; padding: 0cm 5.4pt; height: 15.55pt; vertical-align: top;\">\n",
    "                <p style='margin-top:0cm;margin-right:0cm;margin-bottom:.0001pt;margin-left:0cm;line-height:normal;font-size:15px;font-family:\"Calibri\",sans-serif;text-align:center;'><strong>&lsquo;r+&#39;</strong></p>\n",
    "            </td>\n",
    "            <td style=\"width: 27.7183%; border-top: none; border-left: none; border-bottom: 1pt solid windowtext; border-right: 1pt solid windowtext; padding: 0cm 5.4pt; height: 15.55pt; vertical-align: top;\">\n",
    "                <p style='margin-top:0cm;margin-right:0cm;margin-bottom:.0001pt;margin-left:0cm;line-height:normal;font-size:15px;font-family:\"Calibri\",sans-serif;text-align:center;'>Read+Write</p>\n",
    "            </td>\n",
    "            <td style=\"width: 44.6761%; border-top: none; border-left: none; border-bottom: 1pt solid windowtext; border-right: 1pt solid windowtext; padding: 0cm 5.4pt; height: 15.55pt; vertical-align: top;\">\n",
    "                <p style='margin-top:0cm;margin-right:0cm;margin-bottom:.0001pt;margin-left:0cm;line-height:  normal;font-size:15px;font-family:\"Calibri\",sans-serif;'>open a file for both reading and writing</p>\n",
    "            </td>\n",
    "        </tr>\n",
    "        <tr>\n",
    "            <td style=\"width: 28.169%; border-right: 1pt solid windowtext; border-bottom: 1pt solid windowtext; border-left: 1pt solid windowtext; border-image: initial; border-top: none; padding: 0cm 5.4pt; height: 15.55pt; vertical-align: top;\">\n",
    "                <p style='margin-top:0cm;margin-right:0cm;margin-bottom:.0001pt;margin-left:0cm;line-height:normal;font-size:15px;font-family:\"Calibri\",sans-serif;text-align:center;'><strong>&lsquo;x&#39;</strong></p>\n",
    "            </td>\n",
    "            <td style=\"width: 27.7183%; border-top: none; border-left: none; border-bottom: 1pt solid windowtext; border-right: 1pt solid windowtext; padding: 0cm 5.4pt; height: 15.55pt; vertical-align: top;\">\n",
    "                <p style='margin-top:0cm;margin-right:0cm;margin-bottom:.0001pt;margin-left:0cm;line-height:normal;font-size:15px;font-family:\"Calibri\",sans-serif;text-align:center;'>Create</p>\n",
    "            </td>\n",
    "            <td style=\"width: 44.6761%; border-top: none; border-left: none; border-bottom: 1pt solid windowtext; border-right: 1pt solid windowtext; padding: 0cm 5.4pt; height: 15.55pt; vertical-align: top;\">\n",
    "                <p style='margin-top:0cm;margin-right:0cm;margin-bottom:.0001pt;margin-left:0cm;line-height:  normal;font-size:15px;font-family:\"Calibri\",sans-serif;'>Create a new file</p>\n",
    "            </td>\n",
    "        </tr>\n",
    "        <tr>\n",
    "            <td style=\"width: 28.169%; border-right: 1pt solid windowtext; border-bottom: 1pt solid windowtext; border-left: 1pt solid windowtext; border-image: initial; border-top: none; padding: 0cm 5.4pt; height: 15.55pt; vertical-align: top;\">\n",
    "                <p style='margin-top:0cm;margin-right:0cm;margin-bottom:.0001pt;margin-left:0cm;line-height:normal;font-size:15px;font-family:\"Calibri\",sans-serif;text-align:center;'><strong>&lsquo;t&#39;</strong></p>\n",
    "            </td>\n",
    "            <td style=\"width: 27.7183%; border-top: none; border-left: none; border-bottom: 1pt solid windowtext; border-right: 1pt solid windowtext; padding: 0cm 5.4pt; height: 15.55pt; vertical-align: top;\">\n",
    "                <p style='margin-top:0cm;margin-right:0cm;margin-bottom:.0001pt;margin-left:0cm;line-height:normal;font-size:15px;font-family:\"Calibri\",sans-serif;text-align:center;'>Text (default)</p>\n",
    "            </td>\n",
    "            <td style=\"width: 44.6761%; border-top: none; border-left: none; border-bottom: 1pt solid windowtext; border-right: 1pt solid windowtext; padding: 0cm 5.4pt; height: 15.55pt; vertical-align: top;\">\n",
    "                <p style='margin-top:0cm;margin-right:0cm;margin-bottom:.0001pt;margin-left:0cm;line-height:  normal;font-size:15px;font-family:\"Calibri\",sans-serif;'>Read and write strings from and to the file.</p>\n",
    "            </td>\n",
    "        </tr>\n",
    "        <tr>\n",
    "            <td style=\"width: 28.169%; border-right: 1pt solid windowtext; border-bottom: 1pt solid windowtext; border-left: 1pt solid windowtext; border-image: initial; border-top: none; padding: 0cm 5.4pt; height: 15.55pt; vertical-align: top;\">\n",
    "                <p style='margin-top:0cm;margin-right:0cm;margin-bottom:.0001pt;margin-left:0cm;line-height:normal;font-size:15px;font-family:\"Calibri\",sans-serif;text-align:center;'><strong>&lsquo;b&#39;</strong></p>\n",
    "            </td>\n",
    "            <td style=\"width: 27.7183%; border-top: none; border-left: none; border-bottom: 1pt solid windowtext; border-right: 1pt solid windowtext; padding: 0cm 5.4pt; height: 15.55pt; vertical-align: top;\">\n",
    "                <p style='margin-top:0cm;margin-right:0cm;margin-bottom:.0001pt;margin-left:0cm;line-height:normal;font-size:15px;font-family:\"Calibri\",sans-serif;text-align:center;'>Binary</p>\n",
    "            </td>\n",
    "            <td style=\"width: 44.6761%; border-top: none; border-left: none; border-bottom: 1pt solid windowtext; border-right: 1pt solid windowtext; padding: 0cm 5.4pt; height: 15.55pt; vertical-align: top;\">\n",
    "                <p style='margin-top:0cm;margin-right:0cm;margin-bottom:.0001pt;margin-left:0cm;line-height:  normal;font-size:15px;font-family:\"Calibri\",sans-serif;'>Read and write bytes objects from and to the file.This mode is used for all files that don&acirc;&euro;&trade;t contain text (e.g. images).</p>\n",
    "            </td>\n",
    "        </tr>\n",
    "    </tbody>\n",
    "</table>"
   ]
  },
  {
   "cell_type": "code",
   "execution_count": 0,
   "metadata": {
    "colab": {},
    "colab_type": "code",
    "id": "0OEaIqpnvdwm"
   },
   "outputs": [],
   "source": [
    "#opening a file in default mode \n",
    "f = open('myfile.txt')\n",
    "#Same as opeing a file in default\n",
    "f = open('myfile.txt', 'rt')\n",
    "#open a file for reading and writing\n",
    "f = open('myfile.txt', 'r+')\n",
    "#oepning a bit file to read\n",
    "f = open('myfile.txt', 'rb')"
   ]
  },
  {
   "cell_type": "code",
   "execution_count": 0,
   "metadata": {
    "colab": {},
    "colab_type": "code",
    "id": "SUiydIWVvdwn",
    "outputId": "438e7611-1ac7-4211-ab9e-bfad26cf59b5"
   },
   "outputs": [
    {
     "name": "stdout",
     "output_type": "stream",
     "text": [
      "First line of the file.\n",
      "Second line of the file.\n",
      "Third line of the file.\n"
     ]
    }
   ],
   "source": [
    "f = open('my_file.txt')\n",
    "print(f.read())"
   ]
  },
  {
   "cell_type": "code",
   "execution_count": 0,
   "metadata": {
    "colab": {},
    "colab_type": "code",
    "id": "H9XMPp6svdwo",
    "outputId": "441c523f-7e2d-42c6-ce48-8660e3e6bb33"
   },
   "outputs": [
    {
     "name": "stdout",
     "output_type": "stream",
     "text": [
      "Fir\n",
      "st li\n"
     ]
    }
   ],
   "source": [
    "f = open('my_file.txt')\n",
    "print(f.read(3))    # Fir\n",
    "\n",
    "print(f.read(5))    "
   ]
  },
  {
   "cell_type": "code",
   "execution_count": 0,
   "metadata": {
    "colab": {},
    "colab_type": "code",
    "id": "4_Efh9mWvdwr",
    "outputId": "e3c65b63-5861-4355-860d-f2694ec3ec49"
   },
   "outputs": [
    {
     "name": "stdout",
     "output_type": "stream",
     "text": [
      "First line of the file.\n",
      "\n",
      "---------\n",
      "First line of the file.\n",
      "\n",
      "Second line of the file.\n",
      "\n",
      "Third line of the file.\n"
     ]
    }
   ],
   "source": [
    "f = open('my_file.txt')\n",
    "print(f.readline()) # First line of the file.\n",
    "print('---------')\n",
    "f = open('my_file.txt')\n",
    "for line in f:\n",
    "    print(line)"
   ]
  },
  {
   "cell_type": "code",
   "execution_count": 0,
   "metadata": {
    "colab": {},
    "colab_type": "code",
    "id": "aMuzsRztvdws",
    "outputId": "5ffc84c4-1b4f-4328-a98d-b812b5bb5c59"
   },
   "outputs": [
    {
     "name": "stdout",
     "output_type": "stream",
     "text": [
      "['First line of the file.\\n', 'Second line of the file.\\n', 'Third line of the file.']\n"
     ]
    }
   ],
   "source": [
    "f = open('my_file.txt')\n",
    "print(f.readlines())"
   ]
  },
  {
   "cell_type": "markdown",
   "metadata": {
    "colab_type": "text",
    "id": "w_pN5ponvdwt"
   },
   "source": [
    "### Write a File"
   ]
  },
  {
   "cell_type": "code",
   "execution_count": 0,
   "metadata": {
    "colab": {},
    "colab_type": "code",
    "id": "amj8gbr5vdwt"
   },
   "outputs": [],
   "source": [
    "f = open('my_new_file.txt', 'w')\n",
    "f.write('My first line of the file.')\n",
    "\n",
    "lines = ['New line 1\\n', 'New line 2\\n', 'New line 3']\n",
    "f.writelines(lines)\n"
   ]
  },
  {
   "cell_type": "code",
   "execution_count": 0,
   "metadata": {
    "colab": {},
    "colab_type": "code",
    "id": "xWvL65wtvdwu"
   },
   "outputs": [],
   "source": [
    "f.close()"
   ]
  },
  {
   "cell_type": "markdown",
   "metadata": {
    "colab_type": "text",
    "id": "m0-JvlMmvdwv"
   },
   "source": [
    "### Reading and Writing CSV"
   ]
  },
  {
   "cell_type": "code",
   "execution_count": 0,
   "metadata": {
    "colab": {},
    "colab_type": "code",
    "id": "eSJXB-KLvdwv",
    "outputId": "f218b9fb-a2ff-4f5f-c5d2-82fcee1ffb76"
   },
   "outputs": [
    {
     "name": "stdout",
     "output_type": "stream",
     "text": [
      "Pregnancies,Glucose,BloodPressure,SkinThickness,Insulin,BMI,DiabetesPedigreeFunction,Age,Outcome\n",
      "6,148,72,35,0,33.6,0.627,50,1\n",
      "1,85,66,29,0,26.6,0.351,31,0\n",
      "8,183,64,0,0,23.3,0.672,32,1\n",
      "1,89,66,23,94,28.1,0.167,21,0\n",
      "0,137,40,35,168,43.1,2.288,33,1\n",
      "5,116,74,0,0,25.6,0.201,30,0\n",
      "3,78,50,32,88,31,0.248,26,1\n",
      "10,115,0,0,0,35.3,0.134,29,0\n",
      "2,197,70,45,543,30.5,0.158,53,1\n",
      "8,125,96,0,0,0,0.232,54,1\n"
     ]
    }
   ],
   "source": [
    "with open('diabetes.csv') as f:\n",
    "\tprint(f.read())"
   ]
  },
  {
   "cell_type": "code",
   "execution_count": 0,
   "metadata": {
    "colab": {},
    "colab_type": "code",
    "id": "NdNKj6a1vdww",
    "outputId": "cfc922d9-9349-4615-f730-d2e0e7764738"
   },
   "outputs": [
    {
     "name": "stdout",
     "output_type": "stream",
     "text": [
      "['Pregnancies', 'Glucose', 'BloodPressure', 'SkinThickness', 'Insulin', 'BMI', 'DiabetesPedigreeFunction', 'Age', 'Outcome']\n",
      "['6', '148', '72', '35', '0', '33.6', '0.627', '50', '1']\n",
      "['1', '85', '66', '29', '0', '26.6', '0.351', '31', '0']\n",
      "['8', '183', '64', '0', '0', '23.3', '0.672', '32', '1']\n",
      "['1', '89', '66', '23', '94', '28.1', '0.167', '21', '0']\n",
      "['0', '137', '40', '35', '168', '43.1', '2.288', '33', '1']\n",
      "['5', '116', '74', '0', '0', '25.6', '0.201', '30', '0']\n",
      "['3', '78', '50', '32', '88', '31', '0.248', '26', '1']\n",
      "['10', '115', '0', '0', '0', '35.3', '0.134', '29', '0']\n",
      "['2', '197', '70', '45', '543', '30.5', '0.158', '53', '1']\n",
      "['8', '125', '96', '0', '0', '0', '0.232', '54', '1']\n"
     ]
    }
   ],
   "source": [
    "import csv\n",
    "\n",
    "with open('diabetes.csv') as f:\n",
    "    reader = csv.reader(f)\n",
    "    for row in reader:\n",
    "        print(row)"
   ]
  },
  {
   "cell_type": "code",
   "execution_count": 0,
   "metadata": {
    "colab": {},
    "colab_type": "code",
    "id": "syC8Mo_2vdwy"
   },
   "outputs": [],
   "source": [
    "import csv\n",
    "\n",
    "with open('my_new_csvfile.csv', 'w') as f:\n",
    "    writer = csv.writer(f)\n",
    "    writer.writerow(['8', '183', '64', '0', '0', '23.3', '0.672', '32', '1'])\n",
    "    writer.writerow(['6', '148', '72', '35', '0', '33.6', '0.627', '50', '1'])"
   ]
  },
  {
   "cell_type": "code",
   "execution_count": 0,
   "metadata": {
    "colab": {},
    "colab_type": "code",
    "id": "nrX1yop1vdwz",
    "outputId": "b96098a4-d487-43fc-f0aa-2c48955e3d46"
   },
   "outputs": [
    {
     "name": "stdout",
     "output_type": "stream",
     "text": [
      "OrderedDict([('Pregnancies', '6'), ('Glucose', '148'), ('BloodPressure', '72'), ('SkinThickness', '35'), ('Insulin', '0'), ('BMI', '33.6'), ('DiabetesPedigreeFunction', '0.627'), ('Age', '50'), ('Outcome', '1')])\n",
      "OrderedDict([('Pregnancies', '1'), ('Glucose', '85'), ('BloodPressure', '66'), ('SkinThickness', '29'), ('Insulin', '0'), ('BMI', '26.6'), ('DiabetesPedigreeFunction', '0.351'), ('Age', '31'), ('Outcome', '0')])\n",
      "OrderedDict([('Pregnancies', '8'), ('Glucose', '183'), ('BloodPressure', '64'), ('SkinThickness', '0'), ('Insulin', '0'), ('BMI', '23.3'), ('DiabetesPedigreeFunction', '0.672'), ('Age', '32'), ('Outcome', '1')])\n",
      "OrderedDict([('Pregnancies', '1'), ('Glucose', '89'), ('BloodPressure', '66'), ('SkinThickness', '23'), ('Insulin', '94'), ('BMI', '28.1'), ('DiabetesPedigreeFunction', '0.167'), ('Age', '21'), ('Outcome', '0')])\n",
      "OrderedDict([('Pregnancies', '0'), ('Glucose', '137'), ('BloodPressure', '40'), ('SkinThickness', '35'), ('Insulin', '168'), ('BMI', '43.1'), ('DiabetesPedigreeFunction', '2.288'), ('Age', '33'), ('Outcome', '1')])\n",
      "OrderedDict([('Pregnancies', '5'), ('Glucose', '116'), ('BloodPressure', '74'), ('SkinThickness', '0'), ('Insulin', '0'), ('BMI', '25.6'), ('DiabetesPedigreeFunction', '0.201'), ('Age', '30'), ('Outcome', '0')])\n",
      "OrderedDict([('Pregnancies', '3'), ('Glucose', '78'), ('BloodPressure', '50'), ('SkinThickness', '32'), ('Insulin', '88'), ('BMI', '31'), ('DiabetesPedigreeFunction', '0.248'), ('Age', '26'), ('Outcome', '1')])\n",
      "OrderedDict([('Pregnancies', '10'), ('Glucose', '115'), ('BloodPressure', '0'), ('SkinThickness', '0'), ('Insulin', '0'), ('BMI', '35.3'), ('DiabetesPedigreeFunction', '0.134'), ('Age', '29'), ('Outcome', '0')])\n",
      "OrderedDict([('Pregnancies', '2'), ('Glucose', '197'), ('BloodPressure', '70'), ('SkinThickness', '45'), ('Insulin', '543'), ('BMI', '30.5'), ('DiabetesPedigreeFunction', '0.158'), ('Age', '53'), ('Outcome', '1')])\n",
      "OrderedDict([('Pregnancies', '8'), ('Glucose', '125'), ('BloodPressure', '96'), ('SkinThickness', '0'), ('Insulin', '0'), ('BMI', '0'), ('DiabetesPedigreeFunction', '0.232'), ('Age', '54'), ('Outcome', '1')])\n"
     ]
    }
   ],
   "source": [
    "import csv\n",
    "\n",
    "with open('diabetes.csv') as f:\n",
    "    reader = csv.DictReader(f)\n",
    "    for row in reader:\n",
    "        print(row)"
   ]
  },
  {
   "cell_type": "code",
   "execution_count": null,
   "metadata": {},
   "outputs": [],
   "source": []
  },
  {
   "cell_type": "markdown",
   "metadata": {},
   "source": [
    "## Exercises\n",
    "\n",
    "<ol>\n",
    "<li>What are Booleans, and how they are associated with conditional statements?</li>\n",
    "<li>Mention some of the best practices for naming a variable in Python.</li>\n",
    "<li>Given a DNA sequence:&nbsp; &lsquo;TGGGACAAGGGGTCACCCGAGTGCTGTCTTCCAATCTACTT&rsquo;</li>\n",
    "</ol>\n",
    "<p>&nbsp; &nbsp; &nbsp; &nbsp; &nbsp; &nbsp;Find the fragments if it is digested by a restriction enzyme whose recognition site in &lsquo;CCC&rsquo;.</p>\n",
    "<ol start=\"4\">\n",
    "<li>Given this nested dictionary, use indexing to grab all &lsquo;G2&rsquo;.</li>\n",
    "</ol>\n",
    "<p>&nbsp; &nbsp; &nbsp; &nbsp; &nbsp; &nbsp;{&lsquo;nodes&rsquo;:[&lsquo;G1&rsquo;, &lsquo;G2&rsquo;, &lsquo;G3&rsquo;], edges:[{&lsquo;id&rsquo;:1, &lsquo;source&rsquo;: &lsquo;G1&rsquo;, &lsquo;end&rsquo;: &lsquo;G3&rsquo;},{&lsquo;id&rsquo;:2, &lsquo;source&rsquo;: &lsquo;G3&rsquo;, &lsquo;end&rsquo;: &lsquo;G2&rsquo;}]}</p>\n",
    "<p>&nbsp;</p>\n",
    "<ol start=\"5\">\n",
    "<li>What type of datatypes cannot be used as a key in the python dictionary?</li>\n",
    "<li>Write a function to retrieve common items from two lists.</li>\n",
    "<li>Create a class for DNA with sequence, and add a method that will return its complimentary string.</li>\n",
    "</ol>"
   ]
  },
  {
   "cell_type": "code",
   "execution_count": 2,
   "metadata": {},
   "outputs": [],
   "source": [
    "a = {'nodes':['G1', 'G2', 'G3'], 'edges':[{'id':1, 'source': 'G1', 'end': 'G3'},{'id':2, 'source': 'G3', 'end': 'G2'}]}"
   ]
  },
  {
   "cell_type": "code",
   "execution_count": null,
   "metadata": {},
   "outputs": [],
   "source": []
  }
 ],
 "metadata": {
  "colab": {
   "collapsed_sections": [
    "6dtM9Vbwvduv",
    "BQ6oUnvhvdu4",
    "6eHprYi-vdvF",
    "fPiDw2rYvdvL",
    "AH8D02X8vdvN",
    "3P8fX2CKvdvP",
    "zj4_cYrcvdvR",
    "LfXtEpujvdvU",
    "Li8W2OWevdvW",
    "Fm_xH7GUvdvY",
    "LFlwomlgvdva",
    "BDUCPZIwvdvc",
    "Js5xtoqOvdvf",
    "ZEMZ7Dmqvdvh",
    "hlge_H1tvdv8",
    "8y_BZAqPvdwi",
    "Fb6Z8SEivdw0",
    "js1awBgYvdwk",
    "XFklGamPvdwl",
    "w_pN5ponvdwt",
    "m0-JvlMmvdwv"
   ],
   "name": "Chapter 2.ipynb",
   "provenance": []
  },
  "kernelspec": {
   "display_name": "Python 3 (ipykernel)",
   "language": "python",
   "name": "python3"
  },
  "language_info": {
   "codemirror_mode": {
    "name": "ipython",
    "version": 3
   },
   "file_extension": ".py",
   "mimetype": "text/x-python",
   "name": "python",
   "nbconvert_exporter": "python",
   "pygments_lexer": "ipython3",
   "version": "3.8.8"
  }
 },
 "nbformat": 4,
 "nbformat_minor": 1
}
